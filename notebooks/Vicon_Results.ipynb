{
 "cells": [
  {
   "cell_type": "markdown",
   "metadata": {
    "Collapsed": "false"
   },
   "source": [
    "# Importing libraries"
   ]
  },
  {
   "cell_type": "markdown",
   "metadata": {
    "Collapsed": "false"
   },
   "source": [
    "Importing global and local libraries used explicitly in this notebook. Keep in mind that other libraries are required to run the local library's functions."
   ]
  },
  {
   "cell_type": "code",
   "execution_count": 1,
   "metadata": {
    "Collapsed": "false"
   },
   "outputs": [],
   "source": [
    "# Global libraries\n",
    "import numpy as np\n",
    "import matplotlib.pyplot as plt\n",
    "import ipywidgets as wg\n",
    "import sys\n",
    "# Add src folder to sys path to import local libraries\n",
    "sys.path.append(\"../src\")\n",
    "# Importing functions from local libraries located in \"src\" folder\n",
    "from support import readFileDialog, parse_data_file\n",
    "from visualizations import showFrame, keypointsDATAtoFrame"
   ]
  },
  {
   "cell_type": "markdown",
   "metadata": {
    "Collapsed": "false"
   },
   "source": [
    "Configure matplotlib plotting to allow for zoom features."
   ]
  },
  {
   "cell_type": "code",
   "execution_count": 2,
   "metadata": {
    "Collapsed": "false"
   },
   "outputs": [],
   "source": [
    "# Try command for jupyter lab, if it doesn't work try for jupyter notebook\n",
    "try:\n",
    "    # jupyter lab command\n",
    "    %matplotlib widget\n",
    "except:\n",
    "    # jupyter notebook command\n",
    "    %matplotlib notebook\n",
    "# If using zoom features aren't required uncomment next line\n",
    "# %matplotlib inline"
   ]
  },
  {
   "cell_type": "markdown",
   "metadata": {
    "Collapsed": "false"
   },
   "source": [
    "# Open Openpose file"
   ]
  },
  {
   "cell_type": "markdown",
   "metadata": {
    "Collapsed": "false"
   },
   "source": [
    "Opening openpose files. The example file is located at \"/examples/rowing_ref_op.data\"."
   ]
  },
  {
   "cell_type": "code",
   "execution_count": 3,
   "metadata": {
    "Collapsed": "false"
   },
   "outputs": [
    {
     "name": "stdout",
     "output_type": "stream",
     "text": [
      "C:/Users/victo/Documents/Motion_analysis/ema_motion_analysis/examples/rowing_ref_op.data\n"
     ]
    }
   ],
   "source": [
    "# file dialog to open the openpose file location\n",
    "file_path_op = readFileDialog(\"Open Data file (OP)\", \"data\")\n",
    "print(file_path_op) # print openpose file location"
   ]
  },
  {
   "cell_type": "code",
   "execution_count": 26,
   "metadata": {
    "Collapsed": "false"
   },
   "outputs": [],
   "source": [
    "# store openpose data in a dictionary (data) with keys stored in the var_names list\n",
    "data, var_names = parse_data_file(file_path_op)\n",
    "kp_op = data[\"keypoints\"] # store keypoints in a separate variable\n",
    "md_op = data[\"metadata\"] # store keypoints in a separate variable\n",
    "ang_op = data[\"angles\"] # store angles in a separate variable\n",
    "fps_op = md_op[\"fps\"] # store fps in a separate variable\n",
    "ang_names = md_op['angles_names'] # store angles names in a separate variable\n",
    "n_frames_op = md_op['n_frames'] # store number of frames in a separate variable\n",
    "# generate time vector based on the length and fps of the data\n",
    "t_op = np.linspace(0, len(ang_op)*(1/fps_op), len(ang_op))"
   ]
  },
  {
   "cell_type": "markdown",
   "metadata": {
    "Collapsed": "false"
   },
   "source": [
    "# Open Vicon file"
   ]
  },
  {
   "cell_type": "markdown",
   "metadata": {
    "Collapsed": "false"
   },
   "source": [
    "Opening vicon files. The example file is located at \"/examples/rowing_ref_vicon.data\"."
   ]
  },
  {
   "cell_type": "code",
   "execution_count": 27,
   "metadata": {
    "Collapsed": "false"
   },
   "outputs": [
    {
     "name": "stdout",
     "output_type": "stream",
     "text": [
      "C:/Users/victo/Documents/Motion_analysis/Vicon/Celio_Vicon/Voga24_5min_Celio_f_5seg.data\n"
     ]
    }
   ],
   "source": [
    "# file dialog to open the vicon file location\n",
    "file_path_vicon = readFileDialog(\"Open Data file (Vicon)\", \"data\")\n",
    "print(file_path_vicon) # print vicon file location"
   ]
  },
  {
   "cell_type": "code",
   "execution_count": 28,
   "metadata": {
    "Collapsed": "false"
   },
   "outputs": [],
   "source": [
    "# store vicon data in a dictionary (data) with keys stored in the var_names list\n",
    "data, var_names = parse_data_file(file_path_vicon)\n",
    "kp_vicon = data[\"keypoints\"] # store keypoints in a separate variable\n",
    "md_vicon = data[\"metadata\"] # store keypoints in a separate variable\n",
    "ang_vicon = data[\"angles\"] # store angles in a separate variable\n",
    "fps_vicon = md_vicon[\"fps\"] # store fps in a separate variable\n",
    "# assert vicon and openpose have the same angles order\n",
    "assert ang_names == md_vicon['angles_names']\n",
    "n_frames_vicon = md_vicon['n_frames'] # store number of frames in a separate variable\n",
    "# generate time vector based on the length and fps of the data\n",
    "t_vicon = np.linspace(0, len(ang_vicon)*(1/fps_vicon), len(ang_vicon))"
   ]
  },
  {
   "cell_type": "markdown",
   "metadata": {
    "Collapsed": "false"
   },
   "source": [
    "# Angle comparison"
   ]
  },
  {
   "cell_type": "markdown",
   "metadata": {
    "Collapsed": "false"
   },
   "source": [
    "Create plotting interface to compare the angles acquired from openpose and the Vicon system"
   ]
  },
  {
   "cell_type": "code",
   "execution_count": 29,
   "metadata": {
    "Collapsed": "false"
   },
   "outputs": [
    {
     "data": {
      "application/vnd.jupyter.widget-view+json": {
       "model_id": "ddb79fc857434dd58e5fd11507f2f97a",
       "version_major": 2,
       "version_minor": 0
      },
      "text/plain": [
       "VBox(children=(Dropdown(description='Angle:', index=2, options=('Knee <- Ankle -> Ground', 'Hip <- Knee -> Ank…"
      ]
     },
     "metadata": {},
     "output_type": "display_data"
    }
   ],
   "source": [
    "# create dropdown object with the angles names\n",
    "joint_angle = wg.Dropdown(options=ang_names, # set as angles names list\n",
    "                        description='Angle:', # name description\n",
    "                        value='Shoulder <- Hip -> Knee', # start with the hip angle\n",
    "                        disabled=False)\n",
    "\n",
    "# function to plot the comparison\n",
    "def plot_2d_comparison(joint_angle):\n",
    "    # get desired angle index\n",
    "    angle_idx = ang_names.index(joint_angle)\n",
    "    plt.close('all') # close previously opened plots\n",
    "    plt.figure() # open figure\n",
    "    # plot vicon data for the selected angle\n",
    "    plt.plot(t_vicon, ang_vicon[:, angle_idx], label='Vicon')\n",
    "    # plot openpose data for the selected angle\n",
    "    plt.plot(t_op, ang_op[:, angle_idx],  label='Openpose')\n",
    "    # separate main joint name for plot title\n",
    "    angle_name = joint_angle.split('->')[0].split('<-')[-1].replace(\" \", \"\")\n",
    "    # set plot title\n",
    "    plt.title(\"2D Comparation for the {}\".format(angle_name))\n",
    "    plt.xlabel(\"Time (s)\") # set plot x axis label\n",
    "    plt.ylabel(\"Angle (Degrees)\") # set plot y axis label\n",
    "    plt.grid(True) # set grid\n",
    "    plt.legend() # set legend\n",
    "    plt.show() # show plot\n",
    "\n",
    "# set interactive plot to refresh plot after a change in the dropdown names\n",
    "out = wg.interactive_output(plot_2d_comparison, {'joint_angle': joint_angle})\n",
    "# vertical box to align the angles dropdown and the interactive plot\n",
    "vbox = wg.VBox([joint_angle, out])\n",
    "# display vertical box\n",
    "display(vbox)"
   ]
  },
  {
   "cell_type": "code",
   "execution_count": null,
   "metadata": {
    "Collapsed": "false"
   },
   "outputs": [],
   "source": []
  }
 ],
 "metadata": {
  "kernelspec": {
   "display_name": "Python 3",
   "language": "python",
   "name": "python3"
  },
  "language_info": {
   "codemirror_mode": {
    "name": "ipython",
    "version": 3
   },
   "file_extension": ".py",
   "mimetype": "text/x-python",
   "name": "python",
   "nbconvert_exporter": "python",
   "pygments_lexer": "ipython3",
   "version": "3.8.2"
  }
 },
 "nbformat": 4,
 "nbformat_minor": 4
}
