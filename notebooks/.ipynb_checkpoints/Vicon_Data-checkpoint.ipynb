{
 "cells": [
  {
   "cell_type": "markdown",
   "metadata": {
    "Collapsed": "false"
   },
   "source": [
    "# Import Libraries"
   ]
  },
  {
   "cell_type": "code",
   "execution_count": 1,
   "metadata": {
    "Collapsed": "false",
    "ExecuteTime": {
     "end_time": "2019-11-08T14:03:46.447724Z",
     "start_time": "2019-11-08T14:03:46.423054Z"
    }
   },
   "outputs": [],
   "source": [
    "import numpy as np\n",
    "import pandas as pd\n",
    "import matplotlib.pyplot as plt\n",
    "import cv2\n",
    "import math\n",
    "from mpl_toolkits.mplot3d import Axes3D\n",
    "import ipywidgets as wg\n",
    "import sys\n",
    "sys.path.append(\"../src\")\n",
    "from support import readFileDialog, function_from_file"
   ]
  },
  {
   "cell_type": "markdown",
   "metadata": {
    "Collapsed": "false"
   },
   "source": [
    "# Functions"
   ]
  },
  {
   "cell_type": "code",
   "execution_count": 2,
   "metadata": {
    "Collapsed": "false",
    "ExecuteTime": {
     "end_time": "2019-11-08T14:03:46.816617Z",
     "start_time": "2019-11-08T14:03:46.796625Z"
    }
   },
   "outputs": [],
   "source": [
    "def readFileVicon(file_path, prefix=\"Victor:\", keypoints_mapping_Vicon=None, first_line=\"Trajectories\"):\n",
    "    if keypoints_mapping_Vicon == None:\n",
    "        keypoints_mapping_Vicon = [\"LANK\", \"LKNE\", \"LTHI\", \"LASI\", \"LSHO\", \"LELB\", \"LWRB\", \"RANK\", \"RKNE\", \"RTHI\", \"RASI\", \"RSHO\", \"RELB\", \"RWRB\"]\n",
    "    metadata = pd.read_csv(file_path, nrows=1)\n",
    "    fps = pd.read_csv(file_path, nrows=1)[first_line][0]\n",
    "    keypoints_mapping_Vicon_tmp = pd.read_csv(file_path, skiprows=[0,1], nrows=1, header=None).values.tolist()[0]\n",
    "    vicon_data = np.array(pd.read_csv(file_path, skiprows=[0,1,2,4]))\n",
    "    keypoints_Vicon = np.zeros([len(vicon_data), len(keypoints_mapping_Vicon), 3])\n",
    "    for i in range(len(keypoints_mapping_Vicon)):\n",
    "        idx = keypoints_mapping_Vicon_tmp.index(prefix + keypoints_mapping_Vicon[i])\n",
    "        keypoints_Vicon[:, i, :] = vicon_data[:, idx:idx+3]\n",
    "    return keypoints_Vicon, keypoints_mapping_Vicon, fps"
   ]
  },
  {
   "cell_type": "code",
   "execution_count": 3,
   "metadata": {
    "Collapsed": "false",
    "ExecuteTime": {
     "end_time": "2019-11-08T14:03:47.089124Z",
     "start_time": "2019-11-08T14:03:47.061140Z"
    }
   },
   "outputs": [],
   "source": [
    "def plot3DPose(keypoints_Vicon, frame_n=0):\n",
    "    fig = plt.figure()\n",
    "    ax = fig.add_subplot(111, projection='3d')\n",
    "    kp_left = keypoints_Vicon[frame_n, :int(keypoints_Vicon.shape[1]/2), :]\n",
    "    kp_right = keypoints_Vicon[frame_n, int(keypoints_Vicon.shape[1]/2):, :]\n",
    "    kp_center = (kp_left[2:4, :] + kp_right[2:4, :])/2\n",
    "    ax.plot([kp_left[2, 0], kp_right[2, 0]], [kp_left[2, 1], kp_right[2, 1]],zs=[kp_left[2, 2], kp_right[2, 2]], color='b')\n",
    "    ax.plot([kp_left[3, 0], kp_right[3, 0]], [kp_left[3, 1], kp_right[3, 1]],zs=[kp_left[3, 2], kp_right[3, 2]], color='b')\n",
    "    ax.plot([kp_center[0, 0], kp_center[1, 0]], [kp_center[0, 1], kp_center[1, 1]],zs=[kp_center[0, 2], kp_center[1, 2]], color='b')\n",
    "    for i in range(int(keypoints_Vicon.shape[1]/2)-1):\n",
    "        ax.plot([kp_left[i, 0], kp_left[i+1, 0]], [kp_left[i, 1], kp_left[i+1, 1]],zs=[kp_left[i, 2], kp_left[i+1, 2]], color='black')\n",
    "        ax.plot([kp_right[i, 0], kp_right[i+1, 0]], [kp_right[i, 1], kp_right[i+1, 1]],zs=[kp_right[i, 2], kp_right[i+1, 2]], color='black')\n",
    "    ax.scatter(kp_left[:, 0], kp_left[:, 1], kp_left[:, 2], marker='o', color='g')\n",
    "    ax.scatter(kp_right[:, 0], kp_right[:, 1], kp_right[:, 2], marker='o', color='r')\n",
    "    ax.set_xlabel('X Axis')\n",
    "    ax.set_ylabel('Y Axis')\n",
    "    ax.set_zlabel('Z Axis')\n",
    "    x, y, z = kp_right[:, 0], kp_right[:, 1], kp_right[:, 2]\n",
    "    max_range = np.array([x.max()-x.min(), y.max()-y.min(),\n",
    "                          z.max()-z.min()]).max() / 2.0\n",
    "    mean_x = x.mean()\n",
    "    mean_y = y.mean()\n",
    "    mean_z = z.mean()\n",
    "    ax.set_xlim(mean_x - max_range, mean_x + max_range)\n",
    "    ax.set_ylim(mean_y - max_range, mean_y + max_range)\n",
    "    ax.set_zlim(mean_z - max_range, mean_z + max_range)\n",
    "\n",
    "    plt.show()"
   ]
  },
  {
   "cell_type": "code",
   "execution_count": 4,
   "metadata": {
    "Collapsed": "false",
    "ExecuteTime": {
     "end_time": "2019-11-08T14:03:47.297037Z",
     "start_time": "2019-11-08T14:03:47.290032Z"
    }
   },
   "outputs": [],
   "source": [
    "def interactive3DPose(keypoints_Vicon):    \n",
    "    frame_slider = wg.IntSlider(value=0, min=0, max=len(keypoints_Vicon))\n",
    "    def interactive3DPlot(frame_n):\n",
    "        plot3DPose(keypoints_Vicon, frame_n)\n",
    "    out = wg.interactive_output(interactive3DPlot, {'frame_n': frame_slider})\n",
    "    display(frame_slider, out)"
   ]
  },
  {
   "cell_type": "code",
   "execution_count": 5,
   "metadata": {
    "Collapsed": "false",
    "ExecuteTime": {
     "end_time": "2019-11-08T14:03:47.545870Z",
     "start_time": "2019-11-08T14:03:47.537875Z"
    }
   },
   "outputs": [],
   "source": [
    "def getAngleLimited(A, B, O):\n",
    "    try:\n",
    "        ang = math.degrees(math.atan2(B[1]-O[1], B[0]-O[0]) - math.atan2(A[1]-O[1], A[0]-O[0]))\n",
    "        if ang < 0:\n",
    "            ang += 360\n",
    "        if ang > 180:\n",
    "            ang = 360 - ang\n",
    "    except:\n",
    "        ang = 0\n",
    "    return ang"
   ]
  },
  {
   "cell_type": "code",
   "execution_count": 6,
   "metadata": {
    "Collapsed": "false",
    "ExecuteTime": {
     "end_time": "2019-11-08T14:03:47.773740Z",
     "start_time": "2019-11-08T14:03:47.759749Z"
    }
   },
   "outputs": [],
   "source": [
    "def inverseKinematicsRowing(keypoints):\n",
    "    \"\"\" Expected joint order\n",
    "    if orientation == \"Sagittal Right\":\n",
    "        joints_order = [\"Right Ankle\", \"Right Knee\", \"Right Hip\", \"Right Shoulder\", \"Right Elbow\", \"Right Wrist\"]\n",
    "    else:\n",
    "        joints_order = [\"Left Ankle\", \"Left Knee\", \"Left Hip\", \"Left Shoulder\", \"Left Elbow\", \"Left Wrist\"]\n",
    "    \"\"\"\n",
    "    angles = np.zeros(5)\n",
    "    for i in range(5):\n",
    "        if i == 0:\n",
    "            O = keypoints[i]\n",
    "            B = keypoints[i+1]\n",
    "            C = keypoints[i+2]\n",
    "            A = np.array([C[0], O[1]])\n",
    "        else:\n",
    "            A = keypoints[i-1]\n",
    "            O = keypoints[i]\n",
    "            B = keypoints[i+1]\n",
    "            \n",
    "        angles[i] = getAngleLimited(A, B, O)\n",
    "        if i==3:\n",
    "            if A[0] > B[0]:\n",
    "                angles[i] = -angles[i]\n",
    "    return angles"
   ]
  },
  {
   "cell_type": "code",
   "execution_count": 7,
   "metadata": {
    "Collapsed": "false",
    "ExecuteTime": {
     "end_time": "2019-11-08T14:03:48.028119Z",
     "start_time": "2019-11-08T14:03:48.017144Z"
    }
   },
   "outputs": [],
   "source": [
    "def get3DAngleLimited(A, O, B):\n",
    "    f = O-A \n",
    "    e = O-B \n",
    "    AOVec = np.linalg.norm(f)\n",
    "    OBVec = np.linalg.norm(e)\n",
    "    AONorm = f / AOVec\n",
    "    OBNorm = e / OBVec\n",
    "    res = AONorm[0] * OBNorm[0] + AONorm[1] * OBNorm[1] + AONorm[2] * OBNorm[2]\n",
    "    ang = math.degrees(np.arccos(res))\n",
    "    if ang < 0:\n",
    "        ang += 360\n",
    "    if ang > 180:\n",
    "        ang = 360 - ang\n",
    "    return ang"
   ]
  },
  {
   "cell_type": "code",
   "execution_count": 8,
   "metadata": {
    "Collapsed": "false",
    "ExecuteTime": {
     "end_time": "2019-11-08T14:03:48.299149Z",
     "start_time": "2019-11-08T14:03:48.280160Z"
    }
   },
   "outputs": [],
   "source": [
    "def inverseKinematicsRowing3D(keypoints):\n",
    "    angles_SL = np.zeros(5)\n",
    "    angles_SR = np.zeros(5)\n",
    "    for i in range(len(angles_SL)):\n",
    "        if i == 0:\n",
    "            O_SL, O_SR= keypoints[i], keypoints[i+len(angles_SL)]\n",
    "            B_SL, B_SR = keypoints[i+1], keypoints[i+1+len(angles_SL)]\n",
    "            C_SL, C_SR = keypoints[i+2], keypoints[i+2+len(angles_SL)]\n",
    "            A_SL, A_SR = np.array([C_SL[0], O_SL[1], O_SL[2]]), np.array([C_SR[0], O_SR[1], O_SR[2]])\n",
    "        else:\n",
    "            A_SL, A_SR = keypoints[i-1], keypoints[i-1+len(angles_SL)]\n",
    "            O_SL, O_SR = keypoints[i], keypoints[i+len(angles_SL)]\n",
    "            B_SL, B_SR = keypoints[i+1], keypoints[i+1+len(angles_SL)]\n",
    "        angles_SL[i] = get3DAngleLimited(A_SL, O_SL, B_SL)      \n",
    "        angles_SR[i] = get3DAngleLimited(A_SR, O_SR, B_SR)\n",
    "        if i==3:\n",
    "            if A_SL[0] < B_SL[0]:\n",
    "                angles_SL[i] = -angles_SL[i]\n",
    "            if A_SR[0] > B_SR[0]:\n",
    "                angles_SR[i] = -angles_SR[i]\n",
    "    angles_S = np.append(angles_SL, angles_SR)\n",
    "    return angles_S, angles_SL, angles_SR"
   ]
  },
  {
   "cell_type": "code",
   "execution_count": 9,
   "metadata": {
    "Collapsed": "false",
    "ExecuteTime": {
     "end_time": "2019-11-08T14:03:48.557792Z",
     "start_time": "2019-11-08T14:03:48.543801Z"
    }
   },
   "outputs": [],
   "source": [
    "def get3DAnglesVector(keypoints_Vicon, keypoints_mapping_Vicon=None):\n",
    "    if keypoints_mapping_Vicon == None:\n",
    "            keypoints_mapping_Vicon = [\"LANK\", \"LKNE\", \"LASI\", \"LSHO\", \"LELB\", \"LWRB\", \"RANK\", \"RKNE\", \"RASI\", \"RSHO\", \"RELB\", \"RWRB\"]\n",
    "    angles_vec = np.zeros([len(keypoints_Vicon), len(keypoints_mapping_Vicon)-2])\n",
    "    for i in range(len(keypoints_Vicon)):\n",
    "        angles_S, angles_SL, angles_SR = inverseKinematicsRowing3D(keypoints_Vicon[i])\n",
    "        angles_vec[i, :int(len(keypoints_mapping_Vicon)/2)-1] = angles_SL\n",
    "        angles_vec[i, int(len(keypoints_mapping_Vicon)/2)-1:] = angles_SR\n",
    "    return angles_vec"
   ]
  },
  {
   "cell_type": "code",
   "execution_count": 10,
   "metadata": {
    "Collapsed": "false",
    "ExecuteTime": {
     "end_time": "2019-11-08T14:03:48.816032Z",
     "start_time": "2019-11-08T14:03:48.807015Z"
    }
   },
   "outputs": [],
   "source": [
    "def get2DAnglesVector(keypoints_Vicon_2D, keypoints_mapping_Vicon=None):\n",
    "    if keypoints_mapping_Vicon == None:\n",
    "            keypoints_mapping_Vicon = [\"ANK\", \"KNE\", \"HIP\", \"SHO\", \"ELB\", \"WRI\"]\n",
    "    angles_vec = np.zeros([len(keypoints_Vicon), len(keypoints_mapping_Vicon)-1])\n",
    "    for i in range(len(keypoints_Vicon)):\n",
    "        angles = inverseKinematicsRowing(keypoints_Vicon_2D[i])\n",
    "        angles_vec[i, :] = angles\n",
    "    return angles_vec"
   ]
  },
  {
   "cell_type": "code",
   "execution_count": 11,
   "metadata": {
    "Collapsed": "false",
    "ExecuteTime": {
     "end_time": "2019-11-08T14:03:49.203467Z",
     "start_time": "2019-11-08T14:03:49.189454Z"
    }
   },
   "outputs": [],
   "source": [
    "def showRowingChainAnglesPlot(keypoints_xy): \n",
    "    \"\"\" Expected joint order\n",
    "    if orientation == \"Sagittal Right\":\n",
    "        joints_order = [\"Right Ankle\", \"Right Knee\", \"Right Hip\", \"Right Shoulder\", \"Right Elbow\", \"Right Wrist\"]\n",
    "    else:\n",
    "        joints_order = [\"Left Ankle\", \"Left Knee\", \"Left Hip\", \"Left Shoulder\", \"Left Elbow\", \"Left Wrist\"]\n",
    "    \"\"\"\n",
    "    angles = inverseKinematicsRowing(keypoints_xy)\n",
    "    \n",
    "    plt.figure()\n",
    "    for i in range(5):\n",
    "        O = keypoints_xy[i]\n",
    "        B = keypoints_xy[i+1]          \n",
    "        plt.plot([O[0], B[0]], [O[1], B[1]], 'ro-', color = \"black\")\n",
    "        circle1 = plt.Circle((O[0], O[1]), 1, color='r')\n",
    "        plt.text(O[0], O[1], \"{}\".format(int(round(angles[i]))), bbox=dict(facecolor='red', alpha=0.5))\n",
    "        plt.gca().set_aspect('equal', adjustable='box')\n",
    "    plt.grid()\n",
    "    plt.show()"
   ]
  },
  {
   "cell_type": "markdown",
   "metadata": {
    "Collapsed": "false"
   },
   "source": [
    "# Open File"
   ]
  },
  {
   "cell_type": "code",
   "execution_count": 14,
   "metadata": {
    "Collapsed": "false"
   },
   "outputs": [
    {
     "data": {
      "text/plain": [
       "'C:/Users/victo/Documents/Motion_analysis/Vicon/Victor_Vicon/Victor Voga24_5min.csv'"
      ]
     },
     "execution_count": 14,
     "metadata": {},
     "output_type": "execute_result"
    }
   ],
   "source": [
    "file_path = readFileDialog(\"Open Vicon file\")\n",
    "file_path"
   ]
  },
  {
   "cell_type": "code",
   "execution_count": 15,
   "metadata": {
    "Collapsed": "false",
    "ExecuteTime": {
     "end_time": "2019-11-08T14:03:50.389392Z",
     "start_time": "2019-11-08T14:03:50.300442Z"
    }
   },
   "outputs": [],
   "source": [
    "keypoints_Vicon, keypoints_mapping_Vicon, fps = readFileVicon(file_path, prefix=\"Victor:\")"
   ]
  },
  {
   "cell_type": "code",
   "execution_count": 23,
   "metadata": {
    "Collapsed": "false"
   },
   "outputs": [
    {
     "data": {
      "text/plain": [
       "False"
      ]
     },
     "execution_count": 23,
     "metadata": {},
     "output_type": "execute_result"
    }
   ],
   "source": [
    "np.any(np.isnan(keypoints_Vicon[500, int(keypoints_Vicon.shape[1]/2):]))"
   ]
  },
  {
   "cell_type": "code",
   "execution_count": 16,
   "metadata": {
    "Collapsed": "false"
   },
   "outputs": [],
   "source": [
    "kp_right = keypoints_Vicon[500, int(keypoints_Vicon.shape[1]/2):]"
   ]
  },
  {
   "cell_type": "code",
   "execution_count": 24,
   "metadata": {
    "Collapsed": "false"
   },
   "outputs": [
    {
     "data": {
      "text/plain": [
       "False"
      ]
     },
     "execution_count": 24,
     "metadata": {},
     "output_type": "execute_result"
    }
   ],
   "source": [
    "np.any(np.isnan(kp_right))"
   ]
  },
  {
   "cell_type": "code",
   "execution_count": 25,
   "metadata": {
    "Collapsed": "false"
   },
   "outputs": [
    {
     "data": {
      "application/vnd.jupyter.widget-view+json": {
       "model_id": "6c8466a7795840c8a6a557887d1d14fb",
       "version_major": 2,
       "version_minor": 0
      },
      "text/plain": [
       "Canvas(toolbar=Toolbar(toolitems=[('Home', 'Reset original view', 'home', 'home'), ('Back', 'Back to previous …"
      ]
     },
     "metadata": {},
     "output_type": "display_data"
    }
   ],
   "source": [
    "%matplotlib widget\n",
    "fig = plt.figure()\n",
    "ax = fig.add_subplot(111, projection='3d')\n",
    "# kp_left = keypoints_Vicon[frame_n, :int(keypoints_Vicon.shape[1]/2), :]\n",
    "# kp_right = keypoints_Vicon[frame_n, int(keypoints_Vicon.shape[1]/2):, :]\n",
    "# kp_center = (kp_left[2:4, :] + kp_right[2:4, :])/2\n",
    "# ax.plot([kp_left[2, 0], kp_right[2, 0]], [kp_left[2, 1], kp_right[2, 1]],zs=[kp_left[2, 2], kp_right[2, 2]], color='b')\n",
    "# ax.plot([kp_left[3, 0], kp_right[3, 0]], [kp_left[3, 1], kp_right[3, 1]],zs=[kp_left[3, 2], kp_right[3, 2]], color='b')\n",
    "# ax.plot([kp_center[0, 0], kp_center[1, 0]], [kp_center[0, 1], kp_center[1, 1]],zs=[kp_center[0, 2], kp_center[1, 2]], color='b')\n",
    "ax.scatter(kp_right[:, 0], kp_right[:, 1], kp_right[:, 2], marker='o', color='r')\n",
    "for i in range(kp_right.shape[0]-1):\n",
    "#     ax.plot([kp_left[i, 0], kp_left[i+1, 0]], [kp_left[i, 1], kp_left[i+1, 1]],zs=[kp_left[i, 2], kp_left[i+1, 2]], color='g')\n",
    "    ax.plot([kp_right[i, 0], kp_right[i+1, 0]], [kp_right[i, 1], kp_right[i+1, 1]],zs=[kp_right[i, 2], kp_right[i+1, 2]], color='black')\n",
    "# ax.scatter(kp_left[:, 0], kp_left[:, 1], kp_left[:, 2], marker='o', color='g')\n",
    "ax.set_xlabel('X Axis')\n",
    "ax.set_ylabel('Y Axis')\n",
    "ax.set_zlabel('Z Axis')\n",
    "# Fix aspect ratio\n",
    "x, y, z = kp_right[:, 0], kp_right[:, 1], kp_right[:, 2]\n",
    "max_range = np.array([x.max()-x.min(), y.max()-y.min(),\n",
    "                      z.max()-z.min()]).max() / 2.0\n",
    "mean_x = x.mean()\n",
    "mean_y = y.mean()\n",
    "mean_z = z.mean()\n",
    "ax.set_xlim(mean_x - max_range, mean_x + max_range)\n",
    "ax.set_ylim(mean_y - max_range, mean_y + max_range)\n",
    "ax.set_zlim(mean_z - max_range, mean_z + max_range)\n",
    "plt.show()"
   ]
  },
  {
   "cell_type": "markdown",
   "metadata": {
    "Collapsed": "false"
   },
   "source": [
    "# 3D Analysis"
   ]
  },
  {
   "cell_type": "code",
   "execution_count": 19,
   "metadata": {
    "Collapsed": "false",
    "ExecuteTime": {
     "end_time": "2019-11-08T14:03:51.661512Z",
     "start_time": "2019-11-08T14:03:51.060100Z"
    }
   },
   "outputs": [
    {
     "data": {
      "application/vnd.jupyter.widget-view+json": {
       "model_id": "38ec0fc35252479f8b1a6e886a73225a",
       "version_major": 2,
       "version_minor": 0
      },
      "text/plain": [
       "IntSlider(value=0, max=18976)"
      ]
     },
     "metadata": {},
     "output_type": "display_data"
    },
    {
     "data": {
      "application/vnd.jupyter.widget-view+json": {
       "model_id": "9ea1f03253be4112b1760d7d5ac073c2",
       "version_major": 2,
       "version_minor": 0
      },
      "text/plain": [
       "Output()"
      ]
     },
     "metadata": {},
     "output_type": "display_data"
    }
   ],
   "source": [
    "%matplotlib widget\n",
    "interactive3DPose(keypoints_Vicon)"
   ]
  },
  {
   "cell_type": "code",
   "execution_count": 96,
   "metadata": {
    "Collapsed": "false",
    "ExecuteTime": {
     "end_time": "2019-11-05T17:36:46.327292Z",
     "start_time": "2019-11-05T17:36:46.148266Z"
    }
   },
   "outputs": [],
   "source": [
    "angles_vec = get3DAnglesVector(keypoints_Vicon, keypoints_mapping_Vicon=None)"
   ]
  },
  {
   "cell_type": "code",
   "execution_count": 97,
   "metadata": {
    "Collapsed": "false",
    "ExecuteTime": {
     "end_time": "2019-11-05T17:36:46.679380Z",
     "start_time": "2019-11-05T17:36:46.466483Z"
    }
   },
   "outputs": [
    {
     "data": {
      "image/png": "[encoded data removed]",
      "text/plain": [
       "<Figure size 432x288 with 1 Axes>"
      ]
     },
     "metadata": {
      "needs_background": "light"
     },
     "output_type": "display_data"
    }
   ],
   "source": [
    "%matplotlib inline\n",
    "t = np.linspace(0, len(keypoints_Vicon)*(1/fps), len(keypoints_Vicon))\n",
    "plt.figure()\n",
    "plt.plot(t, angles_vec[:, 4])\n",
    "plt.title(\"3D Angle Plot\")\n",
    "plt.grid(True)\n",
    "plt.show()"
   ]
  },
  {
   "cell_type": "markdown",
   "metadata": {
    "Collapsed": "true"
   },
   "source": [
    "# 2D Analysis"
   ]
  },
  {
   "cell_type": "markdown",
   "metadata": {
    "Collapsed": "false"
   },
   "source": [
    "Assuming a fixed volume origin, we can get the 2D sagittal plane simply by removing the X component of the trajectory, as seen in the 3D trajectory plot. Then, for the analysis we separate left sagittal plane."
   ]
  },
  {
   "cell_type": "code",
   "execution_count": 98,
   "metadata": {
    "Collapsed": "false",
    "ExecuteTime": {
     "end_time": "2019-11-05T17:36:22.543790Z",
     "start_time": "2019-11-05T17:36:22.538789Z"
    }
   },
   "outputs": [],
   "source": [
    "keypoints_mapping_SL = ['Left Ankle','Left Knee','Left Hip','Left Shoulder','Left Elbow','Left Wrist']\n",
    "keypoints_Vicon_2D = np.copy(keypoints_Vicon[:,:len(keypoints_mapping_SL),1:])"
   ]
  },
  {
   "cell_type": "code",
   "execution_count": 99,
   "metadata": {
    "Collapsed": "false",
    "ExecuteTime": {
     "end_time": "2019-11-05T17:36:23.414070Z",
     "start_time": "2019-11-05T17:36:23.190071Z"
    }
   },
   "outputs": [
    {
     "ename": "ValueError",
     "evalue": "cannot convert float NaN to integer",
     "output_type": "error",
     "traceback": [
      "\u001b[1;31m---------------------------------------------------------------------------\u001b[0m",
      "\u001b[1;31mValueError\u001b[0m                                Traceback (most recent call last)",
      "\u001b[1;32m<ipython-input-99-fb0023f84ee7>\u001b[0m in \u001b[0;36m<module>\u001b[1;34m\u001b[0m\n\u001b[0;32m      1\u001b[0m \u001b[0mget_ipython\u001b[0m\u001b[1;33m(\u001b[0m\u001b[1;33m)\u001b[0m\u001b[1;33m.\u001b[0m\u001b[0mrun_line_magic\u001b[0m\u001b[1;33m(\u001b[0m\u001b[1;34m'matplotlib'\u001b[0m\u001b[1;33m,\u001b[0m \u001b[1;34m'inline'\u001b[0m\u001b[1;33m)\u001b[0m\u001b[1;33m\u001b[0m\u001b[1;33m\u001b[0m\u001b[0m\n\u001b[0;32m      2\u001b[0m \u001b[0mframe_n\u001b[0m \u001b[1;33m=\u001b[0m \u001b[1;36m0\u001b[0m\u001b[1;33m\u001b[0m\u001b[1;33m\u001b[0m\u001b[0m\n\u001b[1;32m----> 3\u001b[1;33m \u001b[0mshowRowingChainAnglesPlot\u001b[0m\u001b[1;33m(\u001b[0m\u001b[0mkeypoints_Vicon_2D\u001b[0m\u001b[1;33m[\u001b[0m\u001b[0mframe_n\u001b[0m\u001b[1;33m]\u001b[0m\u001b[1;33m)\u001b[0m\u001b[1;33m\u001b[0m\u001b[1;33m\u001b[0m\u001b[0m\n\u001b[0m\u001b[0;32m      4\u001b[0m \u001b[0mangles\u001b[0m \u001b[1;33m=\u001b[0m \u001b[0minverseKinematicsRowing\u001b[0m\u001b[1;33m(\u001b[0m\u001b[0mkeypoints_Vicon_2D\u001b[0m\u001b[1;33m[\u001b[0m\u001b[0mframe_n\u001b[0m\u001b[1;33m]\u001b[0m\u001b[1;33m)\u001b[0m\u001b[1;33m\u001b[0m\u001b[1;33m\u001b[0m\u001b[0m\n\u001b[0;32m      5\u001b[0m \u001b[0mprint\u001b[0m\u001b[1;33m(\u001b[0m\u001b[0mangles\u001b[0m\u001b[1;33m)\u001b[0m\u001b[1;33m\u001b[0m\u001b[1;33m\u001b[0m\u001b[0m\n",
      "\u001b[1;32m<ipython-input-11-cb28b5a5aacf>\u001b[0m in \u001b[0;36mshowRowingChainAnglesPlot\u001b[1;34m(keypoints_xy)\u001b[0m\n\u001b[0;32m     14\u001b[0m         \u001b[0mplt\u001b[0m\u001b[1;33m.\u001b[0m\u001b[0mplot\u001b[0m\u001b[1;33m(\u001b[0m\u001b[1;33m[\u001b[0m\u001b[0mO\u001b[0m\u001b[1;33m[\u001b[0m\u001b[1;36m0\u001b[0m\u001b[1;33m]\u001b[0m\u001b[1;33m,\u001b[0m \u001b[0mB\u001b[0m\u001b[1;33m[\u001b[0m\u001b[1;36m0\u001b[0m\u001b[1;33m]\u001b[0m\u001b[1;33m]\u001b[0m\u001b[1;33m,\u001b[0m \u001b[1;33m[\u001b[0m\u001b[0mO\u001b[0m\u001b[1;33m[\u001b[0m\u001b[1;36m1\u001b[0m\u001b[1;33m]\u001b[0m\u001b[1;33m,\u001b[0m \u001b[0mB\u001b[0m\u001b[1;33m[\u001b[0m\u001b[1;36m1\u001b[0m\u001b[1;33m]\u001b[0m\u001b[1;33m]\u001b[0m\u001b[1;33m,\u001b[0m \u001b[1;34m'ro-'\u001b[0m\u001b[1;33m,\u001b[0m \u001b[0mcolor\u001b[0m \u001b[1;33m=\u001b[0m \u001b[1;34m\"black\"\u001b[0m\u001b[1;33m)\u001b[0m\u001b[1;33m\u001b[0m\u001b[1;33m\u001b[0m\u001b[0m\n\u001b[0;32m     15\u001b[0m         \u001b[0mcircle1\u001b[0m \u001b[1;33m=\u001b[0m \u001b[0mplt\u001b[0m\u001b[1;33m.\u001b[0m\u001b[0mCircle\u001b[0m\u001b[1;33m(\u001b[0m\u001b[1;33m(\u001b[0m\u001b[0mO\u001b[0m\u001b[1;33m[\u001b[0m\u001b[1;36m0\u001b[0m\u001b[1;33m]\u001b[0m\u001b[1;33m,\u001b[0m \u001b[0mO\u001b[0m\u001b[1;33m[\u001b[0m\u001b[1;36m1\u001b[0m\u001b[1;33m]\u001b[0m\u001b[1;33m)\u001b[0m\u001b[1;33m,\u001b[0m \u001b[1;36m1\u001b[0m\u001b[1;33m,\u001b[0m \u001b[0mcolor\u001b[0m\u001b[1;33m=\u001b[0m\u001b[1;34m'r'\u001b[0m\u001b[1;33m)\u001b[0m\u001b[1;33m\u001b[0m\u001b[1;33m\u001b[0m\u001b[0m\n\u001b[1;32m---> 16\u001b[1;33m         \u001b[0mplt\u001b[0m\u001b[1;33m.\u001b[0m\u001b[0mtext\u001b[0m\u001b[1;33m(\u001b[0m\u001b[0mO\u001b[0m\u001b[1;33m[\u001b[0m\u001b[1;36m0\u001b[0m\u001b[1;33m]\u001b[0m\u001b[1;33m,\u001b[0m \u001b[0mO\u001b[0m\u001b[1;33m[\u001b[0m\u001b[1;36m1\u001b[0m\u001b[1;33m]\u001b[0m\u001b[1;33m,\u001b[0m \u001b[1;34m\"{}\"\u001b[0m\u001b[1;33m.\u001b[0m\u001b[0mformat\u001b[0m\u001b[1;33m(\u001b[0m\u001b[0mint\u001b[0m\u001b[1;33m(\u001b[0m\u001b[0mround\u001b[0m\u001b[1;33m(\u001b[0m\u001b[0mangles\u001b[0m\u001b[1;33m[\u001b[0m\u001b[0mi\u001b[0m\u001b[1;33m]\u001b[0m\u001b[1;33m)\u001b[0m\u001b[1;33m)\u001b[0m\u001b[1;33m)\u001b[0m\u001b[1;33m,\u001b[0m \u001b[0mbbox\u001b[0m\u001b[1;33m=\u001b[0m\u001b[0mdict\u001b[0m\u001b[1;33m(\u001b[0m\u001b[0mfacecolor\u001b[0m\u001b[1;33m=\u001b[0m\u001b[1;34m'red'\u001b[0m\u001b[1;33m,\u001b[0m \u001b[0malpha\u001b[0m\u001b[1;33m=\u001b[0m\u001b[1;36m0.5\u001b[0m\u001b[1;33m)\u001b[0m\u001b[1;33m)\u001b[0m\u001b[1;33m\u001b[0m\u001b[1;33m\u001b[0m\u001b[0m\n\u001b[0m\u001b[0;32m     17\u001b[0m         \u001b[0mplt\u001b[0m\u001b[1;33m.\u001b[0m\u001b[0mgca\u001b[0m\u001b[1;33m(\u001b[0m\u001b[1;33m)\u001b[0m\u001b[1;33m.\u001b[0m\u001b[0mset_aspect\u001b[0m\u001b[1;33m(\u001b[0m\u001b[1;34m'equal'\u001b[0m\u001b[1;33m,\u001b[0m \u001b[0madjustable\u001b[0m\u001b[1;33m=\u001b[0m\u001b[1;34m'box'\u001b[0m\u001b[1;33m)\u001b[0m\u001b[1;33m\u001b[0m\u001b[1;33m\u001b[0m\u001b[0m\n\u001b[0;32m     18\u001b[0m     \u001b[0mplt\u001b[0m\u001b[1;33m.\u001b[0m\u001b[0mgrid\u001b[0m\u001b[1;33m(\u001b[0m\u001b[1;33m)\u001b[0m\u001b[1;33m\u001b[0m\u001b[1;33m\u001b[0m\u001b[0m\n",
      "\u001b[1;31mValueError\u001b[0m: cannot convert float NaN to integer"
     ]
    },
    {
     "data": {
      "image/png": "[encoded data removed]",
      "text/plain": [
       "<Figure size 432x288 with 1 Axes>"
      ]
     },
     "metadata": {
      "needs_background": "light"
     },
     "output_type": "display_data"
    }
   ],
   "source": [
    "%matplotlib inline\n",
    "frame_n = 0\n",
    "showRowingChainAnglesPlot(keypoints_Vicon_2D[frame_n])\n",
    "angles = inverseKinematicsRowing(keypoints_Vicon_2D[frame_n])\n",
    "print(angles)"
   ]
  },
  {
   "cell_type": "code",
   "execution_count": 17,
   "metadata": {
    "Collapsed": "false",
    "ExecuteTime": {
     "end_time": "2019-11-05T17:36:29.588157Z",
     "start_time": "2019-11-05T17:36:29.556175Z"
    }
   },
   "outputs": [],
   "source": [
    "angles_vec_2D = get2DAnglesVector(keypoints_Vicon_2D, keypoints_mapping_Vicon=None)"
   ]
  },
  {
   "cell_type": "code",
   "execution_count": 18,
   "metadata": {
    "Collapsed": "false",
    "ExecuteTime": {
     "end_time": "2019-11-05T17:36:30.428252Z",
     "start_time": "2019-11-05T17:36:30.243353Z"
    }
   },
   "outputs": [
    {
     "data": {
      "image/png": "[encoded data removed]",
      "text/plain": [
       "<Figure size 432x288 with 1 Axes>"
      ]
     },
     "metadata": {
      "needs_background": "light"
     },
     "output_type": "display_data"
    }
   ],
   "source": [
    "%matplotlib inline\n",
    "t = np.linspace(0, len(keypoints_Vicon_2D)*(1/fps), len(keypoints_Vicon_2D))\n",
    "plt.figure()\n",
    "plt.plot(t, angles_vec_2D[:, 1])\n",
    "plt.title(\"2D Angle Plot\")\n",
    "plt.grid(True)\n",
    "plt.show()"
   ]
  },
  {
   "cell_type": "markdown",
   "metadata": {
    "Collapsed": "false"
   },
   "source": [
    "# 2D vs 3D"
   ]
  },
  {
   "cell_type": "code",
   "execution_count": 25,
   "metadata": {
    "Collapsed": "false",
    "ExecuteTime": {
     "end_time": "2019-11-05T17:37:23.802829Z",
     "start_time": "2019-11-05T17:37:23.503952Z"
    }
   },
   "outputs": [
    {
     "data": {
      "image/png": "[encoded data removed]",
      "text/plain": [
       "<Figure size 432x288 with 1 Axes>"
      ]
     },
     "metadata": {
      "needs_background": "light"
     },
     "output_type": "display_data"
    }
   ],
   "source": [
    "%matplotlib inline\n",
    "joint_n = 4\n",
    "t = np.linspace(0, len(keypoints_Vicon_2D)*(1/fps), len(keypoints_Vicon_2D))\n",
    "plt.figure()\n",
    "plt.plot(t, angles_vec_2D[:, joint_n], label='2D')\n",
    "plt.plot(t, angles_vec[:, joint_n], label='3D')\n",
    "plt.title(\"2D vs 3D Angle Plot\")\n",
    "plt.grid(True)\n",
    "plt.legend()\n",
    "plt.show()"
   ]
  },
  {
   "cell_type": "code",
   "execution_count": null,
   "metadata": {
    "Collapsed": "false"
   },
   "outputs": [],
   "source": []
  }
 ],
 "metadata": {
  "file_extension": ".py",
  "hide_input": false,
  "kernelspec": {
   "display_name": "Python 3.8.2 64-bit",
   "language": "python",
   "name": "python38264bit0489d227e21840068068c88d30f85276"
  },
  "language_info": {
   "codemirror_mode": {
    "name": "ipython",
    "version": 3
   },
   "file_extension": ".py",
   "mimetype": "text/x-python",
   "name": "python",
   "nbconvert_exporter": "python",
   "pygments_lexer": "ipython3",
   "version": "3.8.2"
  },
  "latex_envs": {
   "LaTeX_envs_menu_present": true,
   "autoclose": false,
   "autocomplete": true,
   "bibliofile": "biblio.bib",
   "cite_by": "apalike",
   "current_citInitial": 1,
   "eqLabelWithNumbers": true,
   "eqNumInitial": 1,
   "hotkeys": {
    "equation": "Ctrl-E",
    "itemize": "Ctrl-I"
   },
   "labels_anchors": false,
   "latex_user_defs": false,
   "report_style_numbering": false,
   "user_envs_cfg": false
  },
  "mimetype": "text/x-python",
  "name": "python",
  "npconvert_exporter": "python",
  "pygments_lexer": "ipython3",
  "toc": {
   "base_numbering": 1,
   "nav_menu": {},
   "number_sections": true,
   "sideBar": true,
   "skip_h1_title": false,
   "title_cell": "Table of Contents",
   "title_sidebar": "Contents",
   "toc_cell": false,
   "toc_position": {},
   "toc_section_display": true,
   "toc_window_display": false
  },
  "varInspector": {
   "cols": {
    "lenName": 16,
    "lenType": 16,
    "lenVar": 40
   },
   "kernels_config": {
    "python": {
     "delete_cmd_postfix": "",
     "delete_cmd_prefix": "del ",
     "library": "var_list.py",
     "varRefreshCmd": "print(var_dic_list())"
    },
    "r": {
     "delete_cmd_postfix": ") ",
     "delete_cmd_prefix": "rm(",
     "library": "var_list.r",
     "varRefreshCmd": "cat(var_dic_list()) "
    }
   },
   "types_to_exclude": [
    "module",
    "function",
    "builtin_function_or_method",
    "instance",
    "_Feature"
   ],
   "window_display": false
  },
  "version": 3
 },
 "nbformat": 4,
 "nbformat_minor": 4
}
