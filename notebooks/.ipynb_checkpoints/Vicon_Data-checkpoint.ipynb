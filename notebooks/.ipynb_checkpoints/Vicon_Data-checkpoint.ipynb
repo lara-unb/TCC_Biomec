{
 "cells": [
  {
   "cell_type": "markdown",
   "metadata": {
    "Collapsed": "false"
   },
   "source": [
    "# Import Libraries"
   ]
  },
  {
   "cell_type": "code",
   "execution_count": 151,
   "metadata": {
    "Collapsed": "false",
    "ExecuteTime": {
     "end_time": "2019-11-08T14:03:46.447724Z",
     "start_time": "2019-11-08T14:03:46.423054Z"
    }
   },
   "outputs": [],
   "source": [
    "import numpy as np\n",
    "import pandas as pd\n",
    "import matplotlib.pyplot as plt\n",
    "import cv2\n",
    "import math\n",
    "from mpl_toolkits.mplot3d import Axes3D\n",
    "import ipywidgets as wg\n",
    "import sys\n",
    "sys.path.append(\"../src\")\n",
    "import importlib\n",
    "import support\n",
    "importlib.reload(support)\n",
    "from support import readFileDialog, parse_data_file\n",
    "%matplotlib widget"
   ]
  },
  {
   "cell_type": "markdown",
   "metadata": {
    "Collapsed": "false"
   },
   "source": [
    "# Functions"
   ]
  },
  {
   "cell_type": "markdown",
   "metadata": {
    "Collapsed": "true"
   },
   "source": [
    "## Read file Vicon"
   ]
  },
  {
   "cell_type": "code",
   "execution_count": 23,
   "metadata": {
    "Collapsed": "false",
    "ExecuteTime": {
     "end_time": "2019-11-08T14:03:46.816617Z",
     "start_time": "2019-11-08T14:03:46.796625Z"
    }
   },
   "outputs": [],
   "source": [
    "def readFileVicon(file_path, prefix=\"Victor:\", keypoints_mapping_Vicon=None, first_line=\"Trajectories\"):\n",
    "    if keypoints_mapping_Vicon == None:\n",
    "        keypoints_mapping_Vicon = [\"LANK\", \"LKNE\", \"LTHI\", \"LASI\", \"LSHO\", \"LELB\", \"LWRB\", \"RANK\", \"RKNE\", \"RTHI\", \"RASI\", \"RSHO\", \"RELB\", \"RWRB\"]\n",
    "    metadata = pd.read_csv(file_path, nrows=1)\n",
    "    fps = pd.read_csv(file_path, nrows=1)[first_line][0]\n",
    "    keypoints_mapping_Vicon_tmp = pd.read_csv(file_path, skiprows=[0,1], nrows=1, header=None).values.tolist()[0]\n",
    "    vicon_data = np.array(pd.read_csv(file_path, skiprows=[0,1,2,4]))\n",
    "    keypoints_Vicon = np.zeros([len(vicon_data), len(keypoints_mapping_Vicon), 3])\n",
    "    for i in range(len(keypoints_mapping_Vicon)):\n",
    "        idx = keypoints_mapping_Vicon_tmp.index(prefix + keypoints_mapping_Vicon[i])\n",
    "        keypoints_Vicon[:, i, :] = vicon_data[:, idx:idx+3]\n",
    "    return keypoints_Vicon, keypoints_mapping_Vicon, fps"
   ]
  },
  {
   "cell_type": "markdown",
   "metadata": {
    "Collapsed": "true"
   },
   "source": [
    "## Plot 3D Pose"
   ]
  },
  {
   "cell_type": "code",
   "execution_count": 41,
   "metadata": {
    "Collapsed": "false",
    "ExecuteTime": {
     "end_time": "2019-11-08T14:03:47.089124Z",
     "start_time": "2019-11-08T14:03:47.061140Z"
    }
   },
   "outputs": [],
   "source": [
    "def plot3DPose(keypoints_Vicon, frame_n=0):\n",
    "    keypoints_Vicon = keypoints_Vicon[frame_n, :, :]\n",
    "    fig = plt.figure()\n",
    "    ax = fig.add_subplot(111, projection='3d')\n",
    "    ax.scatter(keypoints_Vicon[:, 0], keypoints_Vicon[:, 1], keypoints_Vicon[:, 2], marker='o', color='r')\n",
    "    for i in range(kp_right_n.shape[0]-1):\n",
    "        ax.plot([keypoints_Vicon[i, 0], keypoints_Vicon[i+1, 0]], [keypoints_Vicon[i, 1], keypoints_Vicon[i+1, 1]],\n",
    "                zs=[keypoints_Vicon[i, 2], keypoints_Vicon[i+1, 2]], color='black')\n",
    "    ax.set_xlabel('X Axis')\n",
    "    ax.set_ylabel('Y Axis')\n",
    "    ax.set_zlabel('Z Axis')\n",
    "    # Fix aspect ratio\n",
    "    x, y, z = keypoints_Vicon[:, 0], keypoints_Vicon[:, 1], keypoints_Vicon[:, 2]\n",
    "    max_range = np.array([x.max()-x.min(), y.max()-y.min(),\n",
    "                          z.max()-z.min()]).max() / 2.0\n",
    "    mean_x = x.mean()\n",
    "    mean_y = y.mean()\n",
    "    mean_z = z.mean()\n",
    "    ax.set_xlim(mean_x - max_range, mean_x + max_range)\n",
    "    ax.set_ylim(mean_y - max_range, mean_y + max_range)\n",
    "    ax.set_zlim(mean_z - max_range, mean_z + max_range)\n",
    "    plt.show()"
   ]
  },
  {
   "cell_type": "markdown",
   "metadata": {
    "Collapsed": "true"
   },
   "source": [
    "## Interactive 3D Pose"
   ]
  },
  {
   "cell_type": "code",
   "execution_count": 44,
   "metadata": {
    "Collapsed": "false",
    "ExecuteTime": {
     "end_time": "2019-11-08T14:03:47.297037Z",
     "start_time": "2019-11-08T14:03:47.290032Z"
    }
   },
   "outputs": [],
   "source": [
    "def interactive3DPose(keypoints_Vicon):    \n",
    "    frame_slider = wg.IntSlider(value=0, min=0, max=len(keypoints_Vicon))\n",
    "    def interactive3DPlot(frame_n):\n",
    "        plot3DPose(keypoints_Vicon, frame_n)\n",
    "    out = wg.interactive_output(interactive3DPlot, {'frame_n': frame_slider})\n",
    "    display(frame_slider, out)"
   ]
  },
  {
   "cell_type": "markdown",
   "metadata": {
    "Collapsed": "true"
   },
   "source": [
    "## Get angles limited"
   ]
  },
  {
   "cell_type": "code",
   "execution_count": 140,
   "metadata": {
    "Collapsed": "false",
    "ExecuteTime": {
     "end_time": "2019-11-08T14:03:47.545870Z",
     "start_time": "2019-11-08T14:03:47.537875Z"
    }
   },
   "outputs": [],
   "source": [
    "def getAngleLimited(A, B, O):\n",
    "    try:\n",
    "        ang = math.degrees(math.atan2(B[1]-O[1], B[0]-O[0]) - math.atan2(A[1]-O[1], A[0]-O[0]))\n",
    "        if ang < 0:\n",
    "            ang += 360\n",
    "        if ang > 180:\n",
    "            ang = 360 - ang\n",
    "    except:\n",
    "        ang = 0\n",
    "    return ang"
   ]
  },
  {
   "cell_type": "markdown",
   "metadata": {
    "Collapsed": "true"
   },
   "source": [
    "## Inverse Kinematics Rowing"
   ]
  },
  {
   "cell_type": "code",
   "execution_count": 137,
   "metadata": {
    "Collapsed": "false",
    "ExecuteTime": {
     "end_time": "2019-11-08T14:03:47.773740Z",
     "start_time": "2019-11-08T14:03:47.759749Z"
    }
   },
   "outputs": [],
   "source": [
    "def inverseKinematicsRowing(keypoints):\n",
    "    \"\"\" Expected joint order\n",
    "    if orientation == \"Sagittal Right\":\n",
    "        joints_order = [\"Right Ankle\", \"Right Knee\", \"Right Hip\", \"Right Shoulder\", \"Right Elbow\", \"Right Wrist\"]\n",
    "    else:\n",
    "        joints_order = [\"Left Ankle\", \"Left Knee\", \"Left Hip\", \"Left Shoulder\", \"Left Elbow\", \"Left Wrist\"]\n",
    "    \"\"\"\n",
    "    angles = np.zeros(5)\n",
    "    for i in range(5):\n",
    "        if i == 0:\n",
    "            O = keypoints[i]\n",
    "            B = keypoints[i+1]\n",
    "            C = keypoints[i+2]\n",
    "            A = np.array([C[0], O[1]])\n",
    "        else:\n",
    "            A = keypoints[i-1]\n",
    "            O = keypoints[i]\n",
    "            B = keypoints[i+1]\n",
    "            \n",
    "        angles[i] = getAngleLimited(A, B, O)\n",
    "        if i==3:\n",
    "            if A[0] > B[0]:\n",
    "                angles[i] = -angles[i]\n",
    "    return angles"
   ]
  },
  {
   "cell_type": "markdown",
   "metadata": {
    "Collapsed": "true"
   },
   "source": [
    "## Get 3D Angle Limited"
   ]
  },
  {
   "cell_type": "code",
   "execution_count": 139,
   "metadata": {
    "Collapsed": "false",
    "ExecuteTime": {
     "end_time": "2019-11-08T14:03:48.028119Z",
     "start_time": "2019-11-08T14:03:48.017144Z"
    }
   },
   "outputs": [],
   "source": [
    "def get3DAngleLimited(A, O, B):\n",
    "    f = O-A \n",
    "    e = O-B \n",
    "    AOVec = np.linalg.norm(f)\n",
    "    OBVec = np.linalg.norm(e)\n",
    "    AONorm = f / AOVec\n",
    "    OBNorm = e / OBVec\n",
    "    res = AONorm[0] * OBNorm[0] + AONorm[1] * OBNorm[1] + AONorm[2] * OBNorm[2]\n",
    "    ang = math.degrees(np.arccos(res))\n",
    "    if ang < 0:\n",
    "        ang += 360\n",
    "    if ang > 180:\n",
    "        ang = 360 - ang\n",
    "    return ang"
   ]
  },
  {
   "cell_type": "markdown",
   "metadata": {
    "Collapsed": "true"
   },
   "source": [
    "## Inverse Kinematics Rowing 3D"
   ]
  },
  {
   "cell_type": "code",
   "execution_count": 46,
   "metadata": {
    "Collapsed": "false",
    "ExecuteTime": {
     "end_time": "2019-11-08T14:03:48.299149Z",
     "start_time": "2019-11-08T14:03:48.280160Z"
    }
   },
   "outputs": [],
   "source": [
    "def inverseKinematicsRowing3D(keypoints):\n",
    "    angles_SR = np.zeros(5)\n",
    "    for i in range(len(angles_SR)):\n",
    "        if i == 0:\n",
    "            O_SR= keypoints[i]\n",
    "            B_SR = keypoints[i+1]\n",
    "            C_SR = keypoints[i+2]\n",
    "            A_SR = np.array([C_SR[0], O_SR[1], O_SR[2]])\n",
    "        else:\n",
    "            A_SR = keypoints[i-1]\n",
    "            O_SR = keypoints[i]\n",
    "            B_SR = keypoints[i+1]      \n",
    "        angles_SR[i] = get3DAngleLimited(A_SR, O_SR, B_SR)\n",
    "        if i==3:\n",
    "            if A_SR[0] > B_SR[0]:\n",
    "                angles_SR[i] = -angles_SR[i]\n",
    "    return angles_SR"
   ]
  },
  {
   "cell_type": "markdown",
   "metadata": {
    "Collapsed": "true"
   },
   "source": [
    "## Get 3D Angles Vector"
   ]
  },
  {
   "cell_type": "code",
   "execution_count": 120,
   "metadata": {
    "Collapsed": "false",
    "ExecuteTime": {
     "end_time": "2019-11-08T14:03:48.557792Z",
     "start_time": "2019-11-08T14:03:48.543801Z"
    }
   },
   "outputs": [],
   "source": [
    "def get3DAnglesVector(keypoints_Vicon, keypoints_mapping_Vicon=None):\n",
    "    if keypoints_mapping_Vicon == None:\n",
    "            keypoints_mapping_Vicon = [\"RANK\", \"RKNE\", \"RASI\", \"RSHO\", \"RELB\", \"RWRB\"]\n",
    "    angles_vec = np.zeros([keypoints_Vicon.shape[0], 5])\n",
    "    for i in range(len(keypoints_Vicon)):\n",
    "        angles_SR = inverseKinematicsRowing3D(keypoints_Vicon[i])\n",
    "        angles_vec[i, :] = angles_SR\n",
    "    return angles_vec"
   ]
  },
  {
   "cell_type": "markdown",
   "metadata": {
    "Collapsed": "true"
   },
   "source": [
    "## Get 2D Angles Vector"
   ]
  },
  {
   "cell_type": "code",
   "execution_count": 49,
   "metadata": {
    "Collapsed": "false",
    "ExecuteTime": {
     "end_time": "2019-11-08T14:03:48.816032Z",
     "start_time": "2019-11-08T14:03:48.807015Z"
    }
   },
   "outputs": [],
   "source": [
    "def get2DAnglesVector(keypoints_Vicon_2D, keypoints_mapping_Vicon=None):\n",
    "    if keypoints_mapping_Vicon == None:\n",
    "            keypoints_mapping_Vicon = [\"ANK\", \"KNE\", \"HIP\", \"SHO\", \"ELB\", \"WRI\"]\n",
    "    angles_vec = np.zeros([len(keypoints_Vicon), len(keypoints_mapping_Vicon)-1])\n",
    "    for i in range(len(keypoints_Vicon)):\n",
    "        angles = inverseKinematicsRowing(keypoints_Vicon_2D[i])\n",
    "        angles_vec[i, :] = angles\n",
    "    return angles_vec"
   ]
  },
  {
   "cell_type": "markdown",
   "metadata": {
    "Collapsed": "true"
   },
   "source": [
    "## Show Rowing Chain Angles Plot"
   ]
  },
  {
   "cell_type": "code",
   "execution_count": 50,
   "metadata": {
    "Collapsed": "false",
    "ExecuteTime": {
     "end_time": "2019-11-08T14:03:49.203467Z",
     "start_time": "2019-11-08T14:03:49.189454Z"
    }
   },
   "outputs": [],
   "source": [
    "def showRowingChainAnglesPlot(keypoints_xy): \n",
    "    \"\"\" Expected joint order\n",
    "    if orientation == \"Sagittal Right\":\n",
    "        joints_order = [\"Right Ankle\", \"Right Knee\", \"Right Hip\", \"Right Shoulder\", \"Right Elbow\", \"Right Wrist\"]\n",
    "    else:\n",
    "        joints_order = [\"Left Ankle\", \"Left Knee\", \"Left Hip\", \"Left Shoulder\", \"Left Elbow\", \"Left Wrist\"]\n",
    "    \"\"\"\n",
    "    angles = inverseKinematicsRowing(keypoints_xy)\n",
    "    \n",
    "    plt.figure()\n",
    "    for i in range(5):\n",
    "        O = keypoints_xy[i]\n",
    "        B = keypoints_xy[i+1]          \n",
    "        plt.plot([O[0], B[0]], [O[1], B[1]], 'ro-', color = \"black\")\n",
    "        circle1 = plt.Circle((O[0], O[1]), 1, color='r')\n",
    "        plt.text(O[0], O[1], \"{}\".format(int(round(angles[i]))), bbox=dict(facecolor='red', alpha=0.5))\n",
    "        plt.gca().set_aspect('equal', adjustable='box')\n",
    "#     x, y = keypoints_Vicon[:, 0], keypoints_Vicon[:, 1], keypoints_Vicon[:, 2]\n",
    "#     max_range = np.array([x.max()-x.min(), y.max()-y.min(),\n",
    "#                           z.max()-z.min()]).max() / 2.0\n",
    "#     mean_x = x.mean()\n",
    "#     mean_y = y.mean()\n",
    "#     mean_z = z.mean()\n",
    "#     ax.set_xlim(mean_x - max_range, mean_x + max_range)\n",
    "#     ax.set_ylim(mean_y - max_range, mean_y + max_range)\n",
    "#     ax.set_zlim(mean_z - max_range, mean_z + max_range)\n",
    "    plt.grid()\n",
    "    plt.show()"
   ]
  },
  {
   "cell_type": "markdown",
   "metadata": {
    "Collapsed": "true"
   },
   "source": [
    "## Fix Knee Point"
   ]
  },
  {
   "cell_type": "code",
   "execution_count": 109,
   "metadata": {
    "Collapsed": "false"
   },
   "outputs": [],
   "source": [
    "def fix_knee_point(kp_vector, kp_mapping):\n",
    "    kp_mapping_out = kp_mapping.copy()\n",
    "    kp_vector_out = np.zeros([kp_vector.shape[0], kp_vector.shape[1]-1, kp_vector.shape[2]])\n",
    "    knee_idx = kp_mapping.index([kp for kp in kp_mapping if \"KNE\" in kp][0])\n",
    "    thigh_idx = kp_mapping.index([kp for kp in kp_mapping if \"THI\" in kp][0])\n",
    "    kp_mapping_out.remove(kp_mapping[thigh_idx])\n",
    "    kp_vector_out = np.delete(kp_vector, thigh_idx, axis=1)\n",
    "    return kp_vector_out, kp_mapping_out"
   ]
  },
  {
   "cell_type": "markdown",
   "metadata": {
    "Collapsed": "false"
   },
   "source": [
    "# Open File"
   ]
  },
  {
   "cell_type": "markdown",
   "metadata": {
    "Collapsed": "false"
   },
   "source": [
    "Reading Vicon file using the readFileDialog function"
   ]
  },
  {
   "cell_type": "code",
   "execution_count": 3,
   "metadata": {
    "Collapsed": "false"
   },
   "outputs": [
    {
     "data": {
      "text/plain": [
       "'C:/Users/victo/Documents/Motion_analysis/Vicon/Victor_Vicon/Victor Voga24_5min.csv'"
      ]
     },
     "execution_count": 3,
     "metadata": {},
     "output_type": "execute_result"
    }
   ],
   "source": [
    "file_path = readFileDialog(\"Open Vicon file\")\n",
    "file_path"
   ]
  },
  {
   "cell_type": "code",
   "execution_count": 113,
   "metadata": {
    "Collapsed": "false",
    "ExecuteTime": {
     "end_time": "2019-11-08T14:03:50.389392Z",
     "start_time": "2019-11-08T14:03:50.300442Z"
    }
   },
   "outputs": [],
   "source": [
    "keypoints_Vicon, keypoints_mapping_Vicon, fps = readFileVicon(file_path, prefix=\"Victor:\")"
   ]
  },
  {
   "cell_type": "code",
   "execution_count": 25,
   "metadata": {
    "Collapsed": "false"
   },
   "outputs": [
    {
     "data": {
      "text/plain": [
       "(18976, 14, 3)"
      ]
     },
     "execution_count": 25,
     "metadata": {},
     "output_type": "execute_result"
    }
   ],
   "source": [
    "keypoints_Vicon.shape"
   ]
  },
  {
   "cell_type": "code",
   "execution_count": 114,
   "metadata": {
    "Collapsed": "false"
   },
   "outputs": [],
   "source": [
    "kp_right = keypoints_Vicon[:, int(keypoints_Vicon.shape[1]/2):]\n",
    "kp_right_mapping = keypoints_mapping_Vicon[int(keypoints_Vicon.shape[1]/2):]"
   ]
  },
  {
   "cell_type": "code",
   "execution_count": 42,
   "metadata": {
    "Collapsed": "false"
   },
   "outputs": [
    {
     "data": {
      "application/vnd.jupyter.widget-view+json": {
       "model_id": "de2e5c6b311f44b78faab1849708a1e7",
       "version_major": 2,
       "version_minor": 0
      },
      "text/plain": [
       "Canvas(toolbar=Toolbar(toolitems=[('Home', 'Reset original view', 'home', 'home'), ('Back', 'Back to previous …"
      ]
     },
     "metadata": {},
     "output_type": "display_data"
    }
   ],
   "source": [
    "frame_n = 500\n",
    "plot3DPose(kp_right, frame_n)"
   ]
  },
  {
   "cell_type": "markdown",
   "metadata": {
    "Collapsed": "false"
   },
   "source": [
    "# 3D Analysis"
   ]
  },
  {
   "cell_type": "code",
   "execution_count": 178,
   "metadata": {
    "Collapsed": "false",
    "ExecuteTime": {
     "end_time": "2019-11-08T14:03:51.661512Z",
     "start_time": "2019-11-08T14:03:51.060100Z"
    }
   },
   "outputs": [
    {
     "data": {
      "application/vnd.jupyter.widget-view+json": {
       "model_id": "10baf6eea5c54938b5ef9838188faa8d",
       "version_major": 2,
       "version_minor": 0
      },
      "text/plain": [
       "IntSlider(value=0, max=18976)"
      ]
     },
     "metadata": {},
     "output_type": "display_data"
    },
    {
     "data": {
      "application/vnd.jupyter.widget-view+json": {
       "model_id": "64a2abe0b4814c0dacf4be5d6ea5c29a",
       "version_major": 2,
       "version_minor": 0
      },
      "text/plain": [
       "Output()"
      ]
     },
     "metadata": {},
     "output_type": "display_data"
    }
   ],
   "source": [
    "%matplotlib widget\n",
    "interactive3DPose(kp_right)"
   ]
  },
  {
   "cell_type": "markdown",
   "metadata": {
    "Collapsed": "false"
   },
   "source": [
    "Fixing the knee position in the keypoint vector"
   ]
  },
  {
   "cell_type": "code",
   "execution_count": 117,
   "metadata": {
    "Collapsed": "false"
   },
   "outputs": [],
   "source": [
    "kp_right_fixed, kp_mapping_fixed = fix_knee_point(kp_right, kp_right_mapping)"
   ]
  },
  {
   "cell_type": "code",
   "execution_count": 128,
   "metadata": {
    "Collapsed": "false",
    "ExecuteTime": {
     "end_time": "2019-11-05T17:36:46.327292Z",
     "start_time": "2019-11-05T17:36:46.148266Z"
    }
   },
   "outputs": [],
   "source": [
    "angles_vec_vicon = get3DAnglesVector(kp_right, kp_right_mapping)"
   ]
  },
  {
   "cell_type": "code",
   "execution_count": 129,
   "metadata": {
    "Collapsed": "false",
    "ExecuteTime": {
     "end_time": "2019-11-05T17:36:46.679380Z",
     "start_time": "2019-11-05T17:36:46.466483Z"
    }
   },
   "outputs": [
    {
     "data": {
      "application/vnd.jupyter.widget-view+json": {
       "model_id": "c9ebbe8089aa4f4cb84f889c2d6731da",
       "version_major": 2,
       "version_minor": 0
      },
      "text/plain": [
       "Canvas(toolbar=Toolbar(toolitems=[('Home', 'Reset original view', 'home', 'home'), ('Back', 'Back to previous …"
      ]
     },
     "metadata": {},
     "output_type": "display_data"
    }
   ],
   "source": [
    "%matplotlib widget\n",
    "t = np.linspace(0, len(keypoints_Vicon)*(1/fps), len(keypoints_Vicon))\n",
    "plt.figure()\n",
    "plt.plot(t, angles_vec_vicon[:, 2])\n",
    "plt.title(\"3D Angle Plot\")\n",
    "plt.grid(True)\n",
    "plt.show()"
   ]
  },
  {
   "cell_type": "markdown",
   "metadata": {
    "Collapsed": "true"
   },
   "source": [
    "# 2D Analysis"
   ]
  },
  {
   "cell_type": "markdown",
   "metadata": {
    "Collapsed": "false"
   },
   "source": [
    "Assuming a fixed volume origin, we can get the 2D sagittal plane simply by removing the X component of the trajectory, as seen in the 3D trajectory plot. Then, for the analysis we separate left sagittal plane."
   ]
  },
  {
   "cell_type": "code",
   "execution_count": 134,
   "metadata": {
    "Collapsed": "false",
    "ExecuteTime": {
     "end_time": "2019-11-05T17:36:22.543790Z",
     "start_time": "2019-11-05T17:36:22.538789Z"
    }
   },
   "outputs": [],
   "source": [
    "kp_right_Vicon_2D = kp_right_fixed[:,:,1:]"
   ]
  },
  {
   "cell_type": "code",
   "execution_count": 142,
   "metadata": {
    "Collapsed": "false",
    "ExecuteTime": {
     "end_time": "2019-11-05T17:36:23.414070Z",
     "start_time": "2019-11-05T17:36:23.190071Z"
    }
   },
   "outputs": [
    {
     "data": {
      "application/vnd.jupyter.widget-view+json": {
       "model_id": "143d24d4da17499fa6430a8675dbc831",
       "version_major": 2,
       "version_minor": 0
      },
      "text/plain": [
       "Canvas(toolbar=Toolbar(toolitems=[('Home', 'Reset original view', 'home', 'home'), ('Back', 'Back to previous …"
      ]
     },
     "metadata": {},
     "output_type": "display_data"
    },
    {
     "name": "stdout",
     "output_type": "stream",
     "text": [
      "[ 22.37284806 173.24944218 125.86449695 -38.41976533  71.83779104]\n"
     ]
    }
   ],
   "source": [
    "frame_n = 500\n",
    "showRowingChainAnglesPlot(kp_right_Vicon_2D[frame_n])\n",
    "angles = inverseKinematicsRowing(kp_right_Vicon_2D[frame_n])\n",
    "print(angles)"
   ]
  },
  {
   "cell_type": "code",
   "execution_count": 145,
   "metadata": {
    "Collapsed": "false",
    "ExecuteTime": {
     "end_time": "2019-11-05T17:36:29.588157Z",
     "start_time": "2019-11-05T17:36:29.556175Z"
    }
   },
   "outputs": [],
   "source": [
    "angles_vec_2D = get2DAnglesVector(kp_right_Vicon_2D)"
   ]
  },
  {
   "cell_type": "code",
   "execution_count": 147,
   "metadata": {
    "Collapsed": "false"
   },
   "outputs": [
    {
     "data": {
      "text/plain": [
       "(18976, 5)"
      ]
     },
     "execution_count": 147,
     "metadata": {},
     "output_type": "execute_result"
    }
   ],
   "source": [
    "angles_vec_2D.shape"
   ]
  },
  {
   "cell_type": "code",
   "execution_count": 148,
   "metadata": {
    "Collapsed": "false",
    "ExecuteTime": {
     "end_time": "2019-11-05T17:36:30.428252Z",
     "start_time": "2019-11-05T17:36:30.243353Z"
    }
   },
   "outputs": [
    {
     "data": {
      "application/vnd.jupyter.widget-view+json": {
       "model_id": "9db72885d5884ce799f98dd08e8dc9c7",
       "version_major": 2,
       "version_minor": 0
      },
      "text/plain": [
       "Canvas(toolbar=Toolbar(toolitems=[('Home', 'Reset original view', 'home', 'home'), ('Back', 'Back to previous …"
      ]
     },
     "metadata": {},
     "output_type": "display_data"
    }
   ],
   "source": [
    "t = np.linspace(0, len(kp_right_Vicon_2D)*(1/fps), len(kp_right_Vicon_2D))\n",
    "plt.figure()\n",
    "plt.plot(t, angles_vec_2D[:, 2])\n",
    "plt.title(\"2D Angle Plot\")\n",
    "plt.grid(True)\n",
    "plt.show()"
   ]
  },
  {
   "cell_type": "markdown",
   "metadata": {
    "Collapsed": "true"
   },
   "source": [
    "# 2D vs 3D"
   ]
  },
  {
   "cell_type": "code",
   "execution_count": 150,
   "metadata": {
    "Collapsed": "false",
    "ExecuteTime": {
     "end_time": "2019-11-05T17:37:23.802829Z",
     "start_time": "2019-11-05T17:37:23.503952Z"
    }
   },
   "outputs": [
    {
     "data": {
      "application/vnd.jupyter.widget-view+json": {
       "model_id": "acdb3a2d0918419a810c45f18d4125a9",
       "version_major": 2,
       "version_minor": 0
      },
      "text/plain": [
       "Canvas(toolbar=Toolbar(toolitems=[('Home', 'Reset original view', 'home', 'home'), ('Back', 'Back to previous …"
      ]
     },
     "metadata": {},
     "output_type": "display_data"
    }
   ],
   "source": [
    "%matplotlib widget\n",
    "joint_n = 2\n",
    "t = np.linspace(0, len(kp_right_Vicon_2D)*(1/fps), len(kp_right_Vicon_2D))\n",
    "plt.figure()\n",
    "plt.plot(t, angles_vec_2D[:, joint_n], label='2D')\n",
    "plt.plot(t, angles_vec[:, joint_n], label='3D')\n",
    "plt.title(\"2D vs 3D Angle Plot\")\n",
    "plt.grid(True)\n",
    "plt.legend()\n",
    "plt.show()"
   ]
  },
  {
   "cell_type": "markdown",
   "metadata": {
    "Collapsed": "false"
   },
   "source": [
    "# Comparing Vicon with Openpose"
   ]
  },
  {
   "cell_type": "code",
   "execution_count": 156,
   "metadata": {
    "Collapsed": "false"
   },
   "outputs": [
    {
     "data": {
      "text/plain": [
       "'C:/Users/victo/Documents/Motion_analysis/Vicon/Victor_Voga24_5min/Victor_Voga24_5minBIK.data'"
      ]
     },
     "execution_count": 156,
     "metadata": {},
     "output_type": "execute_result"
    }
   ],
   "source": [
    "file_path = readFileDialog(\"Open Data file\", \"data\")\n",
    "file_path"
   ]
  },
  {
   "cell_type": "code",
   "execution_count": 170,
   "metadata": {
    "Collapsed": "false"
   },
   "outputs": [],
   "source": [
    "data, var_names = parse_data_file(file_path)"
   ]
  },
  {
   "cell_type": "code",
   "execution_count": 176,
   "metadata": {
    "Collapsed": "false"
   },
   "outputs": [],
   "source": [
    "kp_openpose = data[\"keypoints\"]\n",
    "md_openpose = data[\"metadata\"]\n",
    "ang_openpose = data[\"angles\"]\n",
    "fps_openpose = md_openpose[\"fps\"]"
   ]
  },
  {
   "cell_type": "code",
   "execution_count": null,
   "metadata": {
    "Collapsed": "false"
   },
   "outputs": [],
   "source": []
  }
 ],
 "metadata": {
  "file_extension": ".py",
  "hide_input": false,
  "kernelspec": {
   "display_name": "Python 3.8.2 64-bit",
   "language": "python",
   "name": "python38264bit0489d227e21840068068c88d30f85276"
  },
  "language_info": {
   "codemirror_mode": {
    "name": "ipython",
    "version": 3
   },
   "file_extension": ".py",
   "mimetype": "text/x-python",
   "name": "python",
   "nbconvert_exporter": "python",
   "pygments_lexer": "ipython3",
   "version": "3.8.2"
  },
  "latex_envs": {
   "LaTeX_envs_menu_present": true,
   "autoclose": false,
   "autocomplete": true,
   "bibliofile": "biblio.bib",
   "cite_by": "apalike",
   "current_citInitial": 1,
   "eqLabelWithNumbers": true,
   "eqNumInitial": 1,
   "hotkeys": {
    "equation": "Ctrl-E",
    "itemize": "Ctrl-I"
   },
   "labels_anchors": false,
   "latex_user_defs": false,
   "report_style_numbering": false,
   "user_envs_cfg": false
  },
  "mimetype": "text/x-python",
  "name": "python",
  "npconvert_exporter": "python",
  "pygments_lexer": "ipython3",
  "toc": {
   "base_numbering": 1,
   "nav_menu": {},
   "number_sections": true,
   "sideBar": true,
   "skip_h1_title": false,
   "title_cell": "Table of Contents",
   "title_sidebar": "Contents",
   "toc_cell": false,
   "toc_position": {},
   "toc_section_display": true,
   "toc_window_display": false
  },
  "varInspector": {
   "cols": {
    "lenName": 16,
    "lenType": 16,
    "lenVar": 40
   },
   "kernels_config": {
    "python": {
     "delete_cmd_postfix": "",
     "delete_cmd_prefix": "del ",
     "library": "var_list.py",
     "varRefreshCmd": "print(var_dic_list())"
    },
    "r": {
     "delete_cmd_postfix": ") ",
     "delete_cmd_prefix": "rm(",
     "library": "var_list.r",
     "varRefreshCmd": "cat(var_dic_list()) "
    }
   },
   "types_to_exclude": [
    "module",
    "function",
    "builtin_function_or_method",
    "instance",
    "_Feature"
   ],
   "window_display": false
  },
  "version": 3
 },
 "nbformat": 4,
 "nbformat_minor": 4
}
