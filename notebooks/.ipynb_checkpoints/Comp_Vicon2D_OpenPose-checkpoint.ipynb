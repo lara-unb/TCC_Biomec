{
 "cells": [
  {
   "cell_type": "code",
   "execution_count": null,
   "metadata": {
    "Collapsed": "false"
   },
   "outputs": [],
   "source": [
    "import numpy as np\n",
    "import pandas as pd\n",
    "import matplotlib.pyplot as plt\n",
    "import cv2\n",
    "import math\n",
    "from mpl_toolkits.mplot3d import Axes3D\n",
    "import ipywidgets as wg\n",
    "from scipy.signal import find_peaks\n",
    "import sys\n",
    "sys.path.append(\"../src\")\n",
    "import importlib\n",
    "import support\n",
    "import visualizations\n",
    "import calibrations\n",
    "import kinematics\n",
    "from scipy import signal\n",
    "importlib.reload(support)\n",
    "from support import readFileDialog, parse_data_file, getFrame\n",
    "importlib.reload(kinematics)\n",
    "from kinematics import getKeypointsCoord, getKeypointsPixels\n",
    "importlib.reload(visualizations)\n",
    "from visualizations import showFrame, keypointsDATAtoFrame\n",
    "importlib.reload(calibrations)\n",
    "from calibrations import getMmppInterface, defineReference\n",
    "%matplotlib widget"
   ]
  },
  {
   "cell_type": "markdown",
   "metadata": {
    "Collapsed": "false"
   },
   "source": [
    "# Functions"
   ]
  },
  {
   "cell_type": "markdown",
   "metadata": {
    "Collapsed": "false"
   },
   "source": [
    "## Read file Vicon"
   ]
  },
  {
   "cell_type": "code",
   "execution_count": 2,
   "metadata": {
    "Collapsed": "false"
   },
   "outputs": [],
   "source": [
    "def readFileVicon(file_path, prefix=\"Victor:\", keypoints_mapping_Vicon=None, first_line=\"Trajectories\"):\n",
    "    if keypoints_mapping_Vicon == None:\n",
    "        keypoints_mapping_Vicon = [\"LANK\", \"LKNE\", \"LTHI\", \"LASI\", \"LSHO\", \"LELB\", \"LWRB\", \"RANK\", \"RKNE\", \"RTHI\", \"RASI\", \"RSHO\", \"RELB\", \"RWRB\"]\n",
    "    metadata = pd.read_csv(file_path, nrows=1)\n",
    "    fps = pd.read_csv(file_path, nrows=1)[first_line][0]\n",
    "    keypoints_mapping_Vicon_tmp = pd.read_csv(file_path, skiprows=[0,1], nrows=1, header=None).values.tolist()[0]\n",
    "    vicon_data = np.array(pd.read_csv(file_path, skiprows=[0,1,2,4]))\n",
    "    keypoints_Vicon = np.zeros([len(vicon_data), len(keypoints_mapping_Vicon), 3])\n",
    "    for i in range(len(keypoints_mapping_Vicon)):\n",
    "        idx = keypoints_mapping_Vicon_tmp.index(prefix + keypoints_mapping_Vicon[i])\n",
    "        keypoints_Vicon[:, i, :] = vicon_data[:, idx:idx+3]\n",
    "    return keypoints_Vicon, keypoints_mapping_Vicon, fps"
   ]
  },
  {
   "cell_type": "markdown",
   "metadata": {
    "Collapsed": "false"
   },
   "source": [
    "## Get angles limited"
   ]
  },
  {
   "cell_type": "code",
   "execution_count": 1,
   "metadata": {
    "Collapsed": "false"
   },
   "outputs": [],
   "source": [
    "def getAngleLimited(A, B, O, allow_neg=True):\n",
    "    if allow_neg:\n",
    "        try:\n",
    "            ang = math.degrees(math.atan2(B[1]-O[1], B[0]-O[0]) - math.atan2(A[1]-O[1], A[0]-O[0]))\n",
    "            if ang > 180:\n",
    "                ang = 360 - ang\n",
    "        except:\n",
    "            ang = 0\n",
    "    else:\n",
    "        try:\n",
    "            ang = math.degrees(math.atan2(B[1]-O[1], B[0]-O[0]) - math.atan2(A[1]-O[1], A[0]-O[0]))\n",
    "            if ang < 0:\n",
    "                ang += 360\n",
    "            if ang > 180:\n",
    "                ang = 360 - ang\n",
    "        except:\n",
    "            ang = 0\n",
    "    return ang"
   ]
  },
  {
   "cell_type": "markdown",
   "metadata": {
    "Collapsed": "false"
   },
   "source": [
    "## Inverse Kinematics Rowing"
   ]
  },
  {
   "cell_type": "code",
   "execution_count": 4,
   "metadata": {
    "Collapsed": "false"
   },
   "outputs": [],
   "source": [
    "def inverseKinematicsRowing(keypoints):\n",
    "    \"\"\" Expected joint order\n",
    "    if orientation == \"Sagittal Right\":\n",
    "        joints_order = [\"Right Ankle\", \"Right Knee\", \"Right Hip\", \"Right Shoulder\", \"Right Elbow\", \"Right Wrist\"]\n",
    "    else:\n",
    "        joints_order = [\"Left Ankle\", \"Left Knee\", \"Left Hip\", \"Left Shoulder\", \"Left Elbow\", \"Left Wrist\"]\n",
    "    \"\"\"\n",
    "    angles = np.zeros(5)\n",
    "    for i in range(5):\n",
    "        if i == 0:\n",
    "            O = keypoints[i]\n",
    "            B = keypoints[i+1]\n",
    "            C = keypoints[i+2]\n",
    "            A = np.array([C[0], O[1]])\n",
    "        else:\n",
    "            A = keypoints[i-1]\n",
    "            O = keypoints[i]\n",
    "            B = keypoints[i+1]\n",
    "            \n",
    "        if i==3:\n",
    "            angles[i] = getAngleLimited(A, B, O, allow_neg=True)\n",
    "        else:\n",
    "            angles[i] = getAngleLimited(A, B, O)\n",
    "    return angles"
   ]
  },
  {
   "cell_type": "markdown",
   "metadata": {
    "Collapsed": "false"
   },
   "source": [
    "## Get 2D Angles Vector"
   ]
  },
  {
   "cell_type": "code",
   "execution_count": 5,
   "metadata": {
    "Collapsed": "false"
   },
   "outputs": [],
   "source": [
    "def get2DAnglesVector(keypoints_Vicon_2D, keypoints_mapping_Vicon=None):\n",
    "    if keypoints_mapping_Vicon == None:\n",
    "            keypoints_mapping_Vicon = [\"ANK\", \"KNE\", \"HIP\", \"SHO\", \"ELB\", \"WRI\"]\n",
    "    angles_vec = np.zeros([len(keypoints_Vicon), len(keypoints_mapping_Vicon)-1])\n",
    "    for i in range(len(keypoints_Vicon)):\n",
    "        angles = inverseKinematicsRowing(keypoints_Vicon_2D[i])\n",
    "        angles_vec[i, :] = angles\n",
    "    return angles_vec"
   ]
  },
  {
   "cell_type": "markdown",
   "metadata": {
    "Collapsed": "false"
   },
   "source": [
    "## Show Rowing Chain Angles Plot"
   ]
  },
  {
   "cell_type": "code",
   "execution_count": 6,
   "metadata": {
    "Collapsed": "false"
   },
   "outputs": [],
   "source": [
    "def showRowingChainAnglesPlot(keypoints_xy): \n",
    "    \"\"\" Expected joint order\n",
    "    if orientation == \"Sagittal Right\":\n",
    "        joints_order = [\"Right Ankle\", \"Right Knee\", \"Right Hip\", \"Right Shoulder\", \"Right Elbow\", \"Right Wrist\"]\n",
    "    else:\n",
    "        joints_order = [\"Left Ankle\", \"Left Knee\", \"Left Hip\", \"Left Shoulder\", \"Left Elbow\", \"Left Wrist\"]\n",
    "    \"\"\"\n",
    "    angles = inverseKinematicsRowing(keypoints_xy)\n",
    "    \n",
    "    plt.figure()\n",
    "    for i in range(5):\n",
    "        O = keypoints_xy[i]\n",
    "        B = keypoints_xy[i+1]          \n",
    "        plt.plot([O[0], B[0]], [O[1], B[1]], 'ro-', color = \"black\")\n",
    "        circle1 = plt.Circle((O[0], O[1]), 1, color='r')\n",
    "        plt.text(O[0], O[1], \"{}\".format(int(round(angles[i]))), bbox=dict(facecolor='red', alpha=0.5))\n",
    "        plt.gca().set_aspect('equal', adjustable='box')\n",
    "#     x, y = keypoints_Vicon[:, 0], keypoints_Vicon[:, 1], keypoints_Vicon[:, 2]\n",
    "#     max_range = np.array([x.max()-x.min(), y.max()-y.min(),\n",
    "#                           z.max()-z.min()]).max() / 2.0\n",
    "#     mean_x = x.mean()\n",
    "#     mean_y = y.mean()\n",
    "#     mean_z = z.mean()\n",
    "#     ax.set_xlim(mean_x - max_range, mean_x + max_range)\n",
    "#     ax.set_ylim(mean_y - max_range, mean_y + max_range)\n",
    "#     ax.set_zlim(mean_z - max_range, mean_z + max_range)\n",
    "    plt.grid()\n",
    "    plt.show()"
   ]
  },
  {
   "cell_type": "markdown",
   "metadata": {
    "Collapsed": "false"
   },
   "source": [
    "## Fix Knee Point"
   ]
  },
  {
   "cell_type": "code",
   "execution_count": 7,
   "metadata": {
    "Collapsed": "false"
   },
   "outputs": [],
   "source": [
    "def fix_knee_point(kp_vector, kp_mapping):\n",
    "    kp_mapping_out = kp_mapping.copy()\n",
    "    kp_vector_out = np.zeros([kp_vector.shape[0], kp_vector.shape[1]-1, kp_vector.shape[2]])\n",
    "    knee_idx = kp_mapping.index([kp for kp in kp_mapping if \"KNE\" in kp][0])\n",
    "    thigh_idx = kp_mapping.index([kp for kp in kp_mapping if \"THI\" in kp][0])\n",
    "    kp_mapping_out.remove(kp_mapping[thigh_idx])\n",
    "    kp_vector_out = np.delete(kp_vector, thigh_idx, axis=1)\n",
    "    return kp_vector_out, kp_mapping_out"
   ]
  },
  {
   "cell_type": "markdown",
   "metadata": {
    "Collapsed": "false"
   },
   "source": [
    "## Peak Detection"
   ]
  },
  {
   "cell_type": "code",
   "execution_count": 8,
   "metadata": {
    "Collapsed": "false"
   },
   "outputs": [],
   "source": [
    "def peak_detection(data_angle, u_thres=90, l_thres=80):\n",
    "    data_cycles = []\n",
    "    i = 0\n",
    "    while i < len(data_angle):\n",
    "        if data_angle[i] > u_thres:\n",
    "            max_peak = data_angle[i]\n",
    "            max_peak_idx = i\n",
    "            i+=1\n",
    "            while (data_angle[i] > l_thres):\n",
    "                if data_angle[i] > max_peak:\n",
    "                    max_peak = data_angle[i]\n",
    "                    max_peak_idx = i\n",
    "                i+=1\n",
    "                if i >= len(data_angle):\n",
    "                    break\n",
    "            if data_cycles == []:\n",
    "                min_peak_idx = np.argmin(data_angle[:max_peak_idx+1])\n",
    "                data_cycles.append([min_peak_idx, max_peak_idx])\n",
    "            else:\n",
    "                min_peak_idx = np.argmin(data_angle[data_cycles[-1][1]:max_peak_idx+1]) + data_cycles[-1][1]\n",
    "                data_cycles.append([min_peak_idx, max_peak_idx])\n",
    "        i+=1\n",
    "    return np.array(data_cycles)"
   ]
  },
  {
   "cell_type": "markdown",
   "metadata": {
    "Collapsed": "false"
   },
   "source": [
    "# Open Vicon File"
   ]
  },
  {
   "cell_type": "markdown",
   "metadata": {
    "Collapsed": "false"
   },
   "source": [
    "Reading Vicon file using the readFileDialog function"
   ]
  },
  {
   "cell_type": "code",
   "execution_count": 9,
   "metadata": {
    "Collapsed": "false"
   },
   "outputs": [
    {
     "data": {
      "text/plain": [
       "'C:/Users/victo/Documents/Motion_analysis/Vicon/Celio_Vicon/Voga24_5min_Celio.data'"
      ]
     },
     "execution_count": 9,
     "metadata": {},
     "output_type": "execute_result"
    }
   ],
   "source": [
    "file_path_vicon = readFileDialog(\"Open Vicon file\")\n",
    "file_path_vicon"
   ]
  },
  {
   "cell_type": "code",
   "execution_count": 10,
   "metadata": {
    "Collapsed": "false"
   },
   "outputs": [],
   "source": [
    "keypoints_Vicon, keypoints_mapping_Vicon, fps_vicon = readFileVicon(file_path_vicon, prefix=\"Celio:\")\n",
    "kp_right = keypoints_Vicon[:, int(keypoints_Vicon.shape[1]/2):]\n",
    "kp_right_mapping = keypoints_mapping_Vicon[int(keypoints_Vicon.shape[1]/2):]\n",
    "kp_right_fixed, kp_mapping_fixed = fix_knee_point(kp_right, kp_right_mapping)"
   ]
  },
  {
   "cell_type": "markdown",
   "metadata": {
    "Collapsed": "false"
   },
   "source": [
    "# 2D Vicon Analysis "
   ]
  },
  {
   "cell_type": "markdown",
   "metadata": {
    "Collapsed": "false"
   },
   "source": [
    "Assuming a fixed volume origin, we can get the 2D sagittal plane simply by removing the X component of the trajectory, as seen in the 3D trajectory plot. Then, for the analysis we separate left sagittal plane."
   ]
  },
  {
   "cell_type": "code",
   "execution_count": 11,
   "metadata": {
    "Collapsed": "false"
   },
   "outputs": [],
   "source": [
    "kp_vicon_2D = kp_right_fixed[:,:,1:]"
   ]
  },
  {
   "cell_type": "code",
   "execution_count": 125,
   "metadata": {
    "Collapsed": "false"
   },
   "outputs": [
    {
     "data": {
      "application/vnd.jupyter.widget-view+json": {
       "model_id": "9af7f7e60f354e01af27a299e85a6d87",
       "version_major": 2,
       "version_minor": 0
      },
      "text/plain": [
       "Canvas(toolbar=Toolbar(toolitems=[('Home', 'Reset original view', 'home', 'home'), ('Back', 'Back to previous …"
      ]
     },
     "metadata": {},
     "output_type": "display_data"
    },
    {
     "name": "stdout",
     "output_type": "stream",
     "text": [
      "[ 87.00787536  81.81487842  51.86050322  88.49208674 163.4082665 ]\n"
     ]
    }
   ],
   "source": [
    "frame_n = 500\n",
    "showRowingChainAnglesPlot(kp_vicon_2D[frame_n])\n",
    "angles = inverseKinematicsRowing(kp_vicon_2D[frame_n])\n",
    "print(angles)"
   ]
  },
  {
   "cell_type": "code",
   "execution_count": 126,
   "metadata": {
    "Collapsed": "false"
   },
   "outputs": [],
   "source": [
    "angles_vec_2D = get2DAnglesVector(kp_vicon_2D)"
   ]
  },
  {
   "cell_type": "code",
   "execution_count": 127,
   "metadata": {
    "Collapsed": "false"
   },
   "outputs": [
    {
     "data": {
      "application/vnd.jupyter.widget-view+json": {
       "model_id": "23f2300da6d74687b203bcae47608a62",
       "version_major": 2,
       "version_minor": 0
      },
      "text/plain": [
       "Canvas(toolbar=Toolbar(toolitems=[('Home', 'Reset original view', 'home', 'home'), ('Back', 'Back to previous …"
      ]
     },
     "metadata": {},
     "output_type": "display_data"
    }
   ],
   "source": [
    "t = np.linspace(0, len(kp_vicon_2D)*(1/fps_vicon), len(kp_vicon_2D))\n",
    "plt.figure()\n",
    "plt.plot(t, angles_vec_2D[:, 2])\n",
    "plt.title(\"2D Angle Plot\")\n",
    "plt.grid(True)\n",
    "plt.show()"
   ]
  },
  {
   "cell_type": "markdown",
   "metadata": {
    "Collapsed": "false"
   },
   "source": [
    "# OpenPose Analysis"
   ]
  },
  {
   "cell_type": "code",
   "execution_count": 2,
   "metadata": {
    "Collapsed": "false"
   },
   "outputs": [
    {
     "data": {
      "text/plain": [
       "'C:/Users/victo/Documents/Motion_analysis/Vicon/Victor_Voga24_5min/Victor_Voga24_5minBIK.data'"
      ]
     },
     "execution_count": 2,
     "metadata": {},
     "output_type": "execute_result"
    }
   ],
   "source": [
    "file_path_op = readFileDialog(\"Open Data file\", \"data\")\n",
    "file_path_op"
   ]
  },
  {
   "cell_type": "code",
   "execution_count": 3,
   "metadata": {
    "Collapsed": "false"
   },
   "outputs": [],
   "source": [
    "data, var_names = parse_data_file(file_path_op)\n",
    "kp_openpose = data[\"keypoints\"]\n",
    "md_openpose = data[\"metadata\"]\n",
    "ang_openpose = data[\"angles\"]\n",
    "fps_openpose = md_openpose[\"fps\"]\n",
    "angles_names = md_openpose['angles_names']\n",
    "fps_openpose *= 0.80"
   ]
  },
  {
   "cell_type": "code",
   "execution_count": 54,
   "metadata": {
    "Collapsed": "false"
   },
   "outputs": [
    {
     "data": {
      "application/vnd.jupyter.widget-view+json": {
       "model_id": "7fd1c46abb7742aaabdcfe63333d64f3",
       "version_major": 2,
       "version_minor": 0
      },
      "text/plain": [
       "Canvas(toolbar=Toolbar(toolitems=[('Home', 'Reset original view', 'home', 'home'), ('Back', 'Back to previous …"
      ]
     },
     "metadata": {},
     "output_type": "display_data"
    },
    {
     "name": "stdout",
     "output_type": "stream",
     "text": [
      "[ 68.47099312  85.42415287  50.45695783  76.18285978 167.14469293]\n"
     ]
    }
   ],
   "source": [
    "frame_n = 5*30\n",
    "kp_openpose_xy = getKeypointsCoord(kp_openpose[frame_n], data[\"metadata\"]['frame_height'])\n",
    "showRowingChainAnglesPlot(kp_openpose_xy)\n",
    "angles = inverseKinematicsRowing(kp_openpose_xy)\n",
    "print(angles)"
   ]
  },
  {
   "cell_type": "code",
   "execution_count": 55,
   "metadata": {
    "Collapsed": "false"
   },
   "outputs": [
    {
     "data": {
      "application/vnd.jupyter.widget-view+json": {
       "model_id": "173c819e485741269c6e2a53f9d08b22",
       "version_major": 2,
       "version_minor": 0
      },
      "text/plain": [
       "Canvas(toolbar=Toolbar(toolitems=[('Home', 'Reset original view', 'home', 'home'), ('Back', 'Back to previous …"
      ]
     },
     "metadata": {},
     "output_type": "display_data"
    }
   ],
   "source": [
    "t = np.linspace(0, len(kp_openpose)*(1/fps_openpose), len(kp_openpose))\n",
    "plt.figure()\n",
    "plt.plot(t, ang_openpose[:, 2])\n",
    "plt.title(\"OpenPose Angle Plot\")\n",
    "plt.grid(True)\n",
    "plt.show()"
   ]
  },
  {
   "cell_type": "markdown",
   "metadata": {
    "Collapsed": "false"
   },
   "source": [
    "# Comparing Vicon 2D with Openpose"
   ]
  },
  {
   "cell_type": "code",
   "execution_count": 19,
   "metadata": {
    "Collapsed": "false"
   },
   "outputs": [],
   "source": [
    "fps = fps_openpose\n",
    "sampling_ratio = fps_vicon/fps_openpose\n",
    "kp_vicon_2D_rs = signal.resample(kp_vicon_2D, int(round(len(kp_vicon_2D)/sampling_ratio)))\n",
    "angles_vec_2D_rs = signal.resample(angles_vec_2D, int(round(len(angles_vec_2D)/sampling_ratio)))"
   ]
  },
  {
   "cell_type": "code",
   "execution_count": null,
   "metadata": {
    "Collapsed": "false"
   },
   "outputs": [],
   "source": [
    "100"
   ]
  },
  {
   "cell_type": "code",
   "execution_count": 129,
   "metadata": {
    "Collapsed": "false"
   },
   "outputs": [],
   "source": [
    "min_length = min(len(angles_vec_2D_rs), len(ang_openpose))\n",
    "angles_vicon = angles_vec_2D_rs[:min_length, :]\n",
    "angles_openpose = ang_openpose[:min_length, :]\n",
    "t = np.linspace(0, len(angles_openpose)*(1/fps), len(angles_openpose))"
   ]
  },
  {
   "cell_type": "code",
   "execution_count": 100,
   "metadata": {
    "Collapsed": "false"
   },
   "outputs": [
    {
     "data": {
      "application/vnd.jupyter.widget-view+json": {
       "model_id": "d3b00c3a66d9460da3463114c392b77e",
       "version_major": 2,
       "version_minor": 0
      },
      "text/plain": [
       "VBox(children=(Dropdown(description='Angle:', options=('Knee <- Ankle -> Ground', 'Hip <- Knee -> Ankle', 'Sho…"
      ]
     },
     "metadata": {},
     "output_type": "display_data"
    }
   ],
   "source": [
    "joint_angle = wg.Dropdown(options=angles_names,\n",
    "                        description='Angle:',\n",
    "                        disabled=False)\n",
    "\n",
    "def plot_2d_comparison(joint_angle):\n",
    "    angle_idx = angles_names.index(joint_angle)\n",
    "    plt.close('all')\n",
    "    plt.figure()\n",
    "    plt.plot(t, angles_vicon[:, angle_idx], label='Vicon')\n",
    "    plt.plot(t, angles_openpose[:, angle_idx],  label='Openpose')\n",
    "    angle_name = joint_angle.split('->')[0].split('<-')[-1].replace(\" \", \"\")\n",
    "    plt.title(\"2D Comparation for the {}\".format(angle_name))\n",
    "    plt.xlabel(\"Time (s)\")\n",
    "    plt.ylabel(\"Angle (Degrees)\")\n",
    "    plt.grid(True)\n",
    "    plt.legend()\n",
    "    plt.show()\n",
    "    print_metrics(angle_idx)\n",
    "\n",
    "def print_metrics(angle_idx):\n",
    "    MSE = np.mean(np.power((angles_vicon[:, angle_idx] - angles_openpose[:, angle_idx]), 2))\n",
    "    print(\"Mean Square Error \", MSE)\n",
    "    \n",
    "out = wg.interactive_output(plot_2d_comparison, {'joint_angle': joint_angle})\n",
    "\n",
    "vbox = wg.VBox([joint_angle, out])\n",
    "display(vbox)"
   ]
  },
  {
   "cell_type": "code",
   "execution_count": 131,
   "metadata": {
    "Collapsed": "false"
   },
   "outputs": [
    {
     "data": {
      "text/plain": [
       "100"
      ]
     },
     "execution_count": 131,
     "metadata": {},
     "output_type": "execute_result"
    }
   ],
   "source": [
    "fps_vicon"
   ]
  },
  {
   "cell_type": "code",
   "execution_count": 134,
   "metadata": {
    "Collapsed": "false"
   },
   "outputs": [
    {
     "data": {
      "application/vnd.jupyter.widget-view+json": {
       "model_id": "77bf042aa91c416b8fc2ed3a0a681126",
       "version_major": 2,
       "version_minor": 0
      },
      "text/plain": [
       "Canvas(toolbar=Toolbar(toolitems=[('Home', 'Reset original view', 'home', 'home'), ('Back', 'Back to previous …"
      ]
     },
     "metadata": {},
     "output_type": "display_data"
    }
   ],
   "source": [
    "joint_angle = \"Shoulder <- Hip -> Knee\"\n",
    "angle_idx = angles_names.index(joint_angle)\n",
    "plt.figure()\n",
    "plt.plot(t, angles_openpose[:, angle_idx],  label='Openpose')\n",
    "t_vicon = np.linspace(0, len(angles_vec_2D)*(1/fps_vicon), len(angles_vec_2D))\n",
    "plt.plot(t_vicon, angles_vec_2D[:, angle_idx], label='Vicon')\n",
    "plt.grid()\n",
    "plt.legend()\n",
    "plt.show()"
   ]
  },
  {
   "cell_type": "markdown",
   "metadata": {
    "Collapsed": "false"
   },
   "source": [
    "# Comparing each cycle"
   ]
  },
  {
   "cell_type": "code",
   "execution_count": 67,
   "metadata": {
    "Collapsed": "false"
   },
   "outputs": [],
   "source": [
    "hip_idx = angles_names.index('Shoulder <- Hip -> Knee')\n",
    "data_cycles_vicon = peak_detection(angles_vicon[:, hip_idx], u_thres=90, l_thres=80)[1:]\n",
    "min_peaks_vicon = data_cycles_vicon[:, 0]\n",
    "data_cycles_op = peak_detection(angles_openpose[:, hip_idx], u_thres=90, l_thres=80)[1:]\n",
    "min_peaks_op = data_cycles_op[1:, 0]"
   ]
  },
  {
   "cell_type": "code",
   "execution_count": 68,
   "metadata": {
    "Collapsed": "false"
   },
   "outputs": [
    {
     "data": {
      "application/vnd.jupyter.widget-view+json": {
       "model_id": "75a9ab9800f84aba8b8fb430f643233f",
       "version_major": 2,
       "version_minor": 0
      },
      "text/plain": [
       "Canvas(toolbar=Toolbar(toolitems=[('Home', 'Reset original view', 'home', 'home'), ('Back', 'Back to previous …"
      ]
     },
     "metadata": {},
     "output_type": "display_data"
    }
   ],
   "source": [
    "plt.figure()\n",
    "plt.plot(t, angles_vicon[:, hip_idx])\n",
    "plt.vlines(x=t[min_peaks_vicon], ymin=min(angles_vicon[:, hip_idx]), \n",
    "           ymax = max(angles_vicon[:, hip_idx]), color = \"black\", linestyles ='dashed')\n",
    "plt.plot(t, angles_openpose[:, hip_idx])\n",
    "plt.vlines(x=t[min_peaks_op], ymin=min(angles_openpose[:, hip_idx]), \n",
    "           ymax = max(angles_openpose[:, hip_idx]), color = \"grey\", linestyles ='dashed')\n",
    "plt.ylabel(\"Angle (degrees)\")\n",
    "plt.xlabel(\"Time (s)\")\n",
    "plt.grid(True)\n",
    "plt.show()"
   ]
  },
  {
   "cell_type": "code",
   "execution_count": 69,
   "metadata": {
    "Collapsed": "false"
   },
   "outputs": [],
   "source": [
    "row_cycles_op = []\n",
    "for i in range(1, len(min_peaks_op)):\n",
    "    row_cycles_op.append(angles_openpose[min_peaks_op[i-1]-1:min_peaks_op[i],:])\n",
    "row_cycles_vicon = []\n",
    "for i in range(1, len(min_peaks_vicon)):\n",
    "    row_cycles_vicon.append(angles_vicon[min_peaks_vicon[i-1]-1:min_peaks_vicon[i],:])"
   ]
  },
  {
   "cell_type": "markdown",
   "metadata": {
    "Collapsed": "false"
   },
   "source": [
    "# Comparison Interface"
   ]
  },
  {
   "cell_type": "code",
   "execution_count": 70,
   "metadata": {
    "Collapsed": "false"
   },
   "outputs": [
    {
     "data": {
      "application/vnd.jupyter.widget-view+json": {
       "model_id": "09c62d18feea4a20a80f76e8c5b16245",
       "version_major": 2,
       "version_minor": 0
      },
      "text/plain": [
       "VBox(children=(HBox(children=(IntSlider(value=0, continuous_update=False, description='cycle number', max=115)…"
      ]
     },
     "metadata": {},
     "output_type": "display_data"
    }
   ],
   "source": [
    "def f(n, joint_angle):\n",
    "    angle_idx = angles_names.index(joint_angle)\n",
    "    angle_name = joint_angle.split('->')[0].split('<-')[-1].replace(\" \", \"\")\n",
    "    plt.close('all') \n",
    "    plt.figure()\n",
    "    plt.title(\"Comparison for the {} angle in the {} cycle\".format(angle_name, n))\n",
    "    plt.plot(t[min_peaks_op[n]-1:min_peaks_op[n+1]], row_cycles_op[n][:,angle_idx], label=angles_names[angle_idx] + \"_OP\")\n",
    "    plt.plot(t[min_peaks_vicon[n]-1:min_peaks_vicon[n+1]], row_cycles_vicon[n][:,angle_idx], label=angles_names[angle_idx] + \"_Vicon\")\n",
    "    plt.legend()\n",
    "    plt.grid(True)\n",
    "    plt.ylabel(\"Angle (degrees)\")\n",
    "    plt.xlabel(\"Frame [n]\")\n",
    "    plt.show()\n",
    "    print_metrics(row_cycles_op[n][:,angle_idx], row_cycles_vicon[n][:,angle_idx], \n",
    "                  t[min_peaks_op[n]-1:min_peaks_op[n+1]], t[min_peaks_vicon[n]-1:min_peaks_vicon[n+1]])\n",
    "\n",
    "def print_metrics(angle_op, angle_vicon, t_op, t_vicon):\n",
    "    min_length = min(len(angle_op), len(angle_vicon))\n",
    "    print(\"Min lenght: \", min_length)\n",
    "    MSE = np.mean(np.power(angle_op[:min_length] - angle_vicon[:min_length], 2))\n",
    "    amp_vicon = max(angle_vicon) - min(angle_vicon)\n",
    "    amp_op = max(angle_op) - min(angle_op)\n",
    "    cycle_period_vicon = t_vicon[-1] - t_vicon[0]\n",
    "    cycle_period_op = t_op[-1] - t_op[0]\n",
    "    pace_spm_op = 60/cycle_period_op\n",
    "    pace_spm_vicon = 60/cycle_period_vicon\n",
    "    print(\"Mean Square Error \", MSE)\n",
    "    print(\"Amplitude (Openpose): \", amp_op)\n",
    "    print(\"Amplitude (Vicon): \", amp_vicon)\n",
    "    print(\"Cycle period (Openpose): {} s\".format(cycle_period_op))\n",
    "    print(\"Cycle period (Vicon): {} s\".format(cycle_period_vicon))\n",
    "    print(\"Pace (Openpose): {} s/m\".format(pace_spm_op))\n",
    "    print(\"Pace (Vicon): {} s/m\".format(pace_spm_vicon))\n",
    "\n",
    "joint_angle = wg.Dropdown(options=angles_names,\n",
    "                        description='Angle:',\n",
    "                        disabled=False)\n",
    "cycle = wg.IntSlider(description='cycle number', max=len(row_cycles_op)-1, continuous_update=False)\n",
    "out = wg.interactive_output(f, {'n': cycle, 'joint_angle': joint_angle})\n",
    "hbox = wg.HBox([cycle, joint_angle])\n",
    "vbox = wg.VBox([hbox, out])\n",
    "display(vbox)"
   ]
  },
  {
   "cell_type": "code",
   "execution_count": 71,
   "metadata": {
    "Collapsed": "false"
   },
   "outputs": [
    {
     "data": {
      "application/vnd.jupyter.widget-view+json": {
       "model_id": "7b79fd2136d94145a2c3845e3d1d9f97",
       "version_major": 2,
       "version_minor": 0
      },
      "text/plain": [
       "VBox(children=(HBox(children=(Dropdown(description='Metric: ', options=('MSE', 'Amplitude', 'Cycle period', 'P…"
      ]
     },
     "metadata": {},
     "output_type": "display_data"
    }
   ],
   "source": [
    "def metricAnalysis(metric, angle):\n",
    "    plt.close('all')\n",
    "    plt.figure()\n",
    "    angle_idx = angles_names.index(angle)\n",
    "    angle_name = angle.split('->')[0].split('<-')[-1].replace(\" \", \"\")\n",
    "    min_length = min(len(row_cycles_vicon), len(row_cycles_op))\n",
    "    if metric == \"Amplitude\":\n",
    "        plt.ylabel(\"Amplitude (Degrees)\")\n",
    "        amp_vicon = np.zeros(min_length)\n",
    "        amp_op = np.zeros(min_length)\n",
    "        for n in range(min_length):\n",
    "            angle_op = row_cycles_op[n][:,angle_idx]\n",
    "            angle_vicon = row_cycles_vicon[n][:,angle_idx]\n",
    "            amp_op[n] = max(angle_op) - min(angle_op)\n",
    "            amp_vicon[n] = max(angle_vicon) - min(angle_vicon)\n",
    "        signal_op = np.copy(amp_op)\n",
    "        signal_vicon = np.copy(amp_vicon)\n",
    "    elif metric == \"Cycle period\":\n",
    "        plt.ylabel(\"Cycle period (s)\")\n",
    "        cycle_period_vicon = np.zeros(min_length)\n",
    "        cycle_period_op = np.zeros(min_length)\n",
    "        for n in range(min_length):\n",
    "            t_op = t[min_peaks_op[n]-1:min_peaks_op[n+1]]\n",
    "            t_vicon = t[min_peaks_vicon[n]-1:min_peaks_vicon[n+1]]\n",
    "            cycle_period_vicon[n] = t_vicon[-1] - t_vicon[0]\n",
    "            cycle_period_op[n] = t_op[-1] - t_op[0]\n",
    "        signal_op = np.copy(cycle_period_op)\n",
    "        signal_vicon = np.copy(cycle_period_vicon)\n",
    "    elif metric == \"Pace\":\n",
    "        plt.ylabel(\"Pace (strokes/minute)\")\n",
    "        pace_spm_vicon = np.zeros(min_length)\n",
    "        pace_spm_op = np.zeros(min_length)\n",
    "        for n in range(min_length):\n",
    "            t_op = t[min_peaks_op[n]-1:min_peaks_op[n+1]]\n",
    "            t_vicon = t[min_peaks_vicon[n]-1:min_peaks_vicon[n+1]]\n",
    "            cycle_period_vicon = t_vicon[-1] - t_vicon[0]\n",
    "            cycle_period_op = t_op[-1] - t_op[0]\n",
    "            pace_spm_op[n] = 60/cycle_period_op\n",
    "            pace_spm_vicon[n] = 60/cycle_period_vicon\n",
    "        signal_op = np.copy(pace_spm_op)\n",
    "        signal_vicon = np.copy(pace_spm_vicon)\n",
    "    elif metric == \"MSE\":\n",
    "        MSE = np.zeros(min_length)\n",
    "        for n in range(min_length):\n",
    "            angle_op = row_cycles_op[n][:,angle_idx]\n",
    "            angle_vicon = row_cycles_vicon[n][:,angle_idx]\n",
    "            min_length_mse = min(len(angle_op), len(angle_vicon))\n",
    "            MSE[n] = np.mean(np.power(angle_op[:min_length_mse] - angle_vicon[:min_length_mse], 2))\n",
    "        plt.title(\"{} for the {} joint angle\".format(metric, angle_name))\n",
    "        plt.plot(MSE)\n",
    "        plt.grid(True)\n",
    "        plt.xlabel(\"Cycle [n]\")\n",
    "        plt.show()\n",
    "        return\n",
    "        \n",
    "    plt.title(\"{} for the {} joint angle\".format(metric, angle_name))\n",
    "    plt.plot(signal_op, \n",
    "             label = \"Openpose\")\n",
    "    plt.plot(signal_vicon, \n",
    "             label = \"Vicon\")\n",
    "    plt.legend()\n",
    "    plt.grid(True)\n",
    "    plt.xlabel(\"Cycle [n]\")\n",
    "    plt.show()\n",
    "    \n",
    "    \n",
    "metric_dp = wg.Dropdown(options=[\"MSE\", \"Amplitude\", \"Cycle period\", \"Pace\"],\n",
    "                        description='Metric: ',\n",
    "                        disabled=False)\n",
    "angle_dp = wg.Dropdown(options=angles_names,\n",
    "                        description='Angle: ',\n",
    "                        disabled=False)\n",
    "\n",
    "hbox = wg.HBox([metric_dp, angle_dp])\n",
    "out = wg.interactive_output(metricAnalysis, {'metric': metric_dp, 'angle': angle_dp})\n",
    "vbox = wg.VBox([hbox, out])\n",
    "\n",
    "display(vbox)"
   ]
  },
  {
   "cell_type": "markdown",
   "metadata": {
    "Collapsed": "false"
   },
   "source": [
    "# Video Comparison"
   ]
  },
  {
   "cell_type": "code",
   "execution_count": 72,
   "metadata": {
    "Collapsed": "false"
   },
   "outputs": [
    {
     "data": {
      "text/plain": [
       "'C:/Users/victo/Documents/Motion_analysis/Vicon/Celio_Voga24/Celio_Voga24BIK.mp4'"
      ]
     },
     "execution_count": 72,
     "metadata": {},
     "output_type": "execute_result"
    }
   ],
   "source": [
    "file_path_video = readFileDialog(\"Open Video file\")\n",
    "file_path_video"
   ]
  },
  {
   "cell_type": "code",
   "execution_count": 109,
   "metadata": {
    "Collapsed": "false"
   },
   "outputs": [],
   "source": [
    "frame_n = 162\n",
    "video_frame, frame_width, frame_height = getFrame(file_path_video, frame_n, input_path=True)"
   ]
  },
  {
   "cell_type": "code",
   "execution_count": 110,
   "metadata": {
    "Collapsed": "false"
   },
   "outputs": [
    {
     "data": {
      "application/vnd.jupyter.widget-view+json": {
       "model_id": "0102d8910e9f43d1ab40c4ff8cdb165b",
       "version_major": 2,
       "version_minor": 0
      },
      "text/plain": [
       "Canvas(toolbar=Toolbar(toolitems=[('Home', 'Reset original view', 'home', 'home'), ('Back', 'Back to previous …"
      ]
     },
     "metadata": {},
     "output_type": "display_data"
    }
   ],
   "source": [
    "showFrame(video_frame, figsize=[6,4])"
   ]
  },
  {
   "cell_type": "code",
   "execution_count": 111,
   "metadata": {
    "Collapsed": "false"
   },
   "outputs": [],
   "source": [
    "keypoints_names = md_openpose['keypoints_names']\n",
    "keypoints_pairs = md_openpose['keypoints_pairs']"
   ]
  },
  {
   "cell_type": "code",
   "execution_count": 112,
   "metadata": {
    "Collapsed": "false"
   },
   "outputs": [],
   "source": [
    "kp_op_frame = keypointsDATAtoFrame(video_frame, kp_openpose[frame_n], keypoints_names, keypoints_pairs,\n",
    "                                  t_circle=5, t_line=3,color_circle = [255,0,0], color_line=[0,0,0])"
   ]
  },
  {
   "cell_type": "code",
   "execution_count": 113,
   "metadata": {
    "Collapsed": "false"
   },
   "outputs": [
    {
     "data": {
      "application/vnd.jupyter.widget-view+json": {
       "model_id": "748e7f63cfb946fba5c5ad957ef96254",
       "version_major": 2,
       "version_minor": 0
      },
      "text/plain": [
       "Canvas(toolbar=Toolbar(toolitems=[('Home', 'Reset original view', 'home', 'home'), ('Back', 'Back to previous …"
      ]
     },
     "metadata": {},
     "output_type": "display_data"
    }
   ],
   "source": [
    "showFrame(kp_op_frame, figsize=[6,4])"
   ]
  },
  {
   "cell_type": "code",
   "execution_count": 94,
   "metadata": {
    "Collapsed": "false"
   },
   "outputs": [
    {
     "name": "stdout",
     "output_type": "stream",
     "text": [
      "Saving conversion\n"
     ]
    }
   ],
   "source": [
    "mmppx, mmppy = getMmppInterface(video_frame, object_x_mm=75, object_y_mm=75)"
   ]
  },
  {
   "cell_type": "code",
   "execution_count": 114,
   "metadata": {
    "Collapsed": "false"
   },
   "outputs": [
    {
     "name": "stdout",
     "output_type": "stream",
     "text": [
      "[93, 330]\n",
      "Saving reference\n"
     ]
    }
   ],
   "source": [
    "hip_reference = defineReference(video_frame, t_circle=5)"
   ]
  },
  {
   "cell_type": "code",
   "execution_count": 115,
   "metadata": {
    "Collapsed": "false"
   },
   "outputs": [],
   "source": [
    "def vicon_keypoints_to_pixel(keypoints, hip_reference, frame_height, mmppx, mmppy):\n",
    "    keypoints_ji = getKeypointsPixels(keypoints, frame_height, mmppx, mmppy)\n",
    "    hip_idx = angles_names.index('Shoulder <- Hip -> Knee')\n",
    "    hip_kp = keypoints_ji[hip_idx, :]\n",
    "    translation = hip_reference - hip_kp\n",
    "    for i in range(keypoints_ji.shape[0]):\n",
    "        keypoints_ji[i, :] += translation\n",
    "    return keypoints_ji"
   ]
  },
  {
   "cell_type": "code",
   "execution_count": 122,
   "metadata": {
    "Collapsed": "false"
   },
   "outputs": [],
   "source": [
    "correction = 1\n",
    "kp_vicon_2D_rs_ji = vicon_keypoints_to_pixel(kp_vicon_2D_rs[frame_n, :, :], hip_reference, \n",
    "                                             frame_height, mmppx+correction, mmppy+correction)"
   ]
  },
  {
   "cell_type": "code",
   "execution_count": 123,
   "metadata": {
    "Collapsed": "false"
   },
   "outputs": [],
   "source": [
    "kp_vicon_frame = keypointsDATAtoFrame(video_frame, kp_vicon_2D_rs_ji, keypoints_names, keypoints_pairs,\n",
    "                                  t_circle=5, t_line=3,color_circle = [255,0,0], color_line=[0,0,0])"
   ]
  },
  {
   "cell_type": "code",
   "execution_count": 124,
   "metadata": {
    "Collapsed": "false"
   },
   "outputs": [
    {
     "data": {
      "application/vnd.jupyter.widget-view+json": {
       "model_id": "f5391e97a7914614a298761e0c9cd543",
       "version_major": 2,
       "version_minor": 0
      },
      "text/plain": [
       "Canvas(toolbar=Toolbar(toolitems=[('Home', 'Reset original view', 'home', 'home'), ('Back', 'Back to previous …"
      ]
     },
     "metadata": {},
     "output_type": "display_data"
    }
   ],
   "source": [
    "showFrame(kp_vicon_frame, figsize=[6,4])"
   ]
  },
  {
   "cell_type": "code",
   "execution_count": 52,
   "metadata": {
    "Collapsed": "false"
   },
   "outputs": [
    {
     "data": {
      "application/vnd.jupyter.widget-view+json": {
       "model_id": "5a1ccb279a5b48dc836de1781d00bba2",
       "version_major": 2,
       "version_minor": 0
      },
      "text/plain": [
       "Canvas(toolbar=Toolbar(toolitems=[('Home', 'Reset original view', 'home', 'home'), ('Back', 'Back to previous …"
      ]
     },
     "metadata": {},
     "output_type": "display_data"
    },
    {
     "name": "stdout",
     "output_type": "stream",
     "text": [
      "[ 13.64095744 179.7667485  132.21781575  -0.91535818 108.50227769]\n"
     ]
    }
   ],
   "source": [
    "frame_n_vicon = int(sampling_ratio*frame_n)\n",
    "showRowingChainAnglesPlot(kp_vicon_2D[frame_n_vicon])\n",
    "angles = inverseKinematicsRowing(kp_vicon_2D[frame_n_vicon])\n",
    "print(angles)"
   ]
  },
  {
   "cell_type": "code",
   "execution_count": 53,
   "metadata": {
    "Collapsed": "false"
   },
   "outputs": [
    {
     "data": {
      "application/vnd.jupyter.widget-view+json": {
       "model_id": "7b31761b8496407e8011d4c3a075dcc7",
       "version_major": 2,
       "version_minor": 0
      },
      "text/plain": [
       "Canvas(toolbar=Toolbar(toolitems=[('Home', 'Reset original view', 'home', 'home'), ('Back', 'Back to previous …"
      ]
     },
     "metadata": {},
     "output_type": "display_data"
    },
    {
     "name": "stdout",
     "output_type": "stream",
     "text": [
      "[ 34.78913231 143.63431764  99.34625466  51.14005245 162.07083697]\n"
     ]
    }
   ],
   "source": [
    "kp_openpose_xy = getKeypointsCoord(kp_openpose[frame_n], frame_height)\n",
    "showRowingChainAnglesPlot(kp_openpose_xy)\n",
    "angles = inverseKinematicsRowing(kp_openpose_xy)\n",
    "print(angles)"
   ]
  },
  {
   "cell_type": "code",
   "execution_count": null,
   "metadata": {
    "Collapsed": "false"
   },
   "outputs": [],
   "source": []
  }
 ],
 "metadata": {
  "kernelspec": {
   "display_name": "Python 3",
   "language": "python",
   "name": "python3"
  },
  "language_info": {
   "codemirror_mode": {
    "name": "ipython",
    "version": 3
   },
   "file_extension": ".py",
   "mimetype": "text/x-python",
   "name": "python",
   "nbconvert_exporter": "python",
   "pygments_lexer": "ipython3",
   "version": "3.8.2"
  }
 },
 "nbformat": 4,
 "nbformat_minor": 4
}
