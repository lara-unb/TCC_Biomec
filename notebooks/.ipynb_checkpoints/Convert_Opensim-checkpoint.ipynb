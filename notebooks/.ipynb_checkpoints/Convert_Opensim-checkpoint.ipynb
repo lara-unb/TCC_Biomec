{
 "cells": [
  {
   "cell_type": "code",
   "execution_count": 24,
   "metadata": {
    "Collapsed": "false"
   },
   "outputs": [],
   "source": [
    "import numpy as np\n",
    "import pandas as pd\n",
    "import matplotlib.pyplot as plt\n",
    "import cv2\n",
    "import math\n",
    "from mpl_toolkits.mplot3d import Axes3D\n",
    "import ipywidgets as wg\n",
    "from scipy.signal import find_peaks\n",
    "import sys\n",
    "sys.path.append(\"../src\")\n",
    "import importlib\n",
    "import support\n",
    "import visualizations\n",
    "import calibrations\n",
    "import kinematics\n",
    "from scipy import signal\n",
    "importlib.reload(support)\n",
    "from support import readFileDialog, parse_data_file, getFrame, saveFileDialog\n",
    "importlib.reload(kinematics)\n",
    "from kinematics import getKeypointsCoord, getKeypointsPixels, showRowingChainAnglesPlot, inverseKinematicsRowing\n",
    "importlib.reload(visualizations)\n",
    "from visualizations import showFrame, keypointsDATAtoFrame\n",
    "importlib.reload(calibrations)\n",
    "from calibrations import getMmppInterface, defineReference\n",
    "%matplotlib widget"
   ]
  },
  {
   "cell_type": "code",
   "execution_count": 2,
   "metadata": {
    "Collapsed": "false"
   },
   "outputs": [],
   "source": [
    "file_path_op = readFileDialog(\"Open Data file (OP)\", \"data\")"
   ]
  },
  {
   "cell_type": "code",
   "execution_count": 3,
   "metadata": {
    "Collapsed": "false"
   },
   "outputs": [],
   "source": [
    "data, var_names = parse_data_file(file_path_op)\n",
    "kp_openpose = data[\"keypoints\"]\n",
    "md_openpose = data[\"metadata\"]\n",
    "ang_openpose = data[\"angles\"]\n",
    "fps_openpose = md_openpose[\"fps\"]\n",
    "angles_names = md_openpose['angles_names']\n",
    "t_openpose = np.linspace(0, len(ang_openpose)*(1/fps_openpose), len(ang_openpose))"
   ]
  },
  {
   "cell_type": "code",
   "execution_count": 4,
   "metadata": {
    "Collapsed": "false"
   },
   "outputs": [
    {
     "data": {
      "application/vnd.jupyter.widget-view+json": {
       "model_id": "7ce168cce0b24a7f9ec56d356bd6eb03",
       "version_major": 2,
       "version_minor": 0
      },
      "text/plain": [
       "VBox(children=(Dropdown(description='Angle:', index=2, options=('Knee <- Ankle -> Ground', 'Hip <- Knee -> Ank…"
      ]
     },
     "metadata": {},
     "output_type": "display_data"
    }
   ],
   "source": [
    "joint_angle = wg.Dropdown(options=angles_names,\n",
    "                        description='Angle:',\n",
    "                        value='Shoulder <- Hip -> Knee',\n",
    "                        disabled=False)\n",
    "\n",
    "def plot_2d_comparison(joint_angle):\n",
    "    angle_idx = angles_names.index(joint_angle)\n",
    "    plt.close('all')\n",
    "    plt.figure()\n",
    "    plt.plot(t_openpose, ang_openpose[:, angle_idx],  label='Openpose')\n",
    "    angle_name = joint_angle.split('->')[0].split('<-')[-1].replace(\" \", \"\")\n",
    "    plt.title(\"2D Comparation for the {}\".format(angle_name))\n",
    "    plt.xlabel(\"Time (s)\")\n",
    "    plt.ylabel(\"Angle (Degrees)\")\n",
    "    plt.grid(True)\n",
    "    plt.legend()\n",
    "    plt.show()\n",
    "\n",
    "out = wg.interactive_output(plot_2d_comparison, {'joint_angle': joint_angle})\n",
    "\n",
    "vbox = wg.VBox([joint_angle, out])\n",
    "display(vbox)"
   ]
  },
  {
   "cell_type": "code",
   "execution_count": 57,
   "metadata": {
    "Collapsed": "false"
   },
   "outputs": [
    {
     "data": {
      "application/vnd.jupyter.widget-view+json": {
       "model_id": "a44fe51a934d44a2b65abab66a328cc0",
       "version_major": 2,
       "version_minor": 0
      },
      "text/plain": [
       "IntSlider(value=0, continuous_update=False, description='Frame:', max=119)"
      ]
     },
     "metadata": {},
     "output_type": "display_data"
    },
    {
     "data": {
      "application/vnd.jupyter.widget-view+json": {
       "model_id": "223258e75814496aabcf869aebfe46f2",
       "version_major": 2,
       "version_minor": 0
      },
      "text/plain": [
       "Output()"
      ]
     },
     "metadata": {},
     "output_type": "display_data"
    },
    {
     "name": "stdout",
     "output_type": "stream",
     "text": [
      "[  5.3663226  -36.77457876  80.63608604 -50.91315547 162.31189146]\n"
     ]
    }
   ],
   "source": [
    "frame_n_slider = wg.IntSlider(value=0,\n",
    "                            min=0,\n",
    "                            max=len(kp_openpose)-1,\n",
    "                            step=1,\n",
    "                            description='Frame:',\n",
    "                            disabled=False,\n",
    "                            continuous_update=False)\n",
    "def kp_angle_view(frame_n):\n",
    "    kp_openpose_xy = getKeypointsCoord(kp_openpose[frame_n], md_openpose['frame_height'])\n",
    "    showRowingChainAnglesPlot(kp_openpose_xy, anatomical='True')\n",
    "    angles = inverseKinematicsRowing(kp_openpose_xy, anatomical='True')\n",
    "    \n",
    "output_view = wg.interactive_output(kp_angle_view, {'frame_n': frame_n_slider})\n",
    "display(frame_n_slider, output_view)\n",
    "print(angles)"
   ]
  },
  {
   "cell_type": "code",
   "execution_count": 28,
   "metadata": {
    "Collapsed": "false"
   },
   "outputs": [
    {
     "data": {
      "text/plain": [
       "'C:/Users/victo/Documents/Motion_analysis/OpenSim/rowing.sto'"
      ]
     },
     "execution_count": 28,
     "metadata": {},
     "output_type": "execute_result"
    }
   ],
   "source": [
    "output_path = saveFileDialog(\"Save without extension\") + '.sto'\n",
    "output_path"
   ]
  },
  {
   "cell_type": "code",
   "execution_count": 55,
   "metadata": {
    "Collapsed": "false"
   },
   "outputs": [],
   "source": [
    "ang_openpose_anatomical = np.copy(ang_openpose)\n",
    "ang_openpose_anatomical[:, 0] = 40 - ang_openpose_anatomical[:, 0]\n",
    "ang_openpose_anatomical[:, 1] = ang_openpose_anatomical[:, 1] - 180\n",
    "ang_openpose_anatomical[:, 2] = 180 - ang_openpose_anatomical[:, 2]"
   ]
  },
  {
   "cell_type": "code",
   "execution_count": 58,
   "metadata": {
    "Collapsed": "false"
   },
   "outputs": [],
   "source": [
    "with open(output_path, 'w+') as f:\n",
    "    columns_list = [\"time\", \"ankle_angle_r\", \"hip_flexion_r\", \"hip_adduction_r\", \"hip_rotation_r\",\n",
    "                \"knee_angle_r\", \"subtalar_angle_r\", \"lumbar_extension\", \"lumbar_bending\", \"lumbar_rotation\"]\n",
    "    columns_line = ''.join([col + '\\t' for col in columns_list])\n",
    "    op_to_os = {\"time\": t_openpose,\n",
    "                \"ankle_angle_r\": ang_openpose_anatomical[:, 0],\n",
    "                \"hip_flexion_r\": ang_openpose_anatomical[:, 2],\n",
    "                \"knee_angle_r\": ang_openpose_anatomical[:, 1]}\n",
    "    header = \"Coordinates\\nversion=1\\nnRows={}\\nnColumns={}\\ninDegrees=yes\\n\\nendheader\".format(len(ang_openpose_anatomical),\n",
    "                                                                                               len(columns_list))\n",
    "\n",
    "    f.write(header)\n",
    "    f.write('\\n')\n",
    "    f.write(columns_line)\n",
    "    f.write('\\n')\n",
    "    \n",
    "    for n in range(len(ang_openpose_anatomical)):\n",
    "        values_list = []\n",
    "        for col_name in columns_list:\n",
    "            if col_name in op_to_os.keys():\n",
    "                values_list.append(str(op_to_os[col_name][n]))\n",
    "            else:\n",
    "                values_list.append(\"0\")\n",
    "        values_line = ''.join([value + '\\t' for value in values_list])\n",
    "        f.write(values_line)\n",
    "        f.write('\\n')"
   ]
  },
  {
   "cell_type": "code",
   "execution_count": null,
   "metadata": {
    "Collapsed": "false"
   },
   "outputs": [],
   "source": []
  }
 ],
 "metadata": {
  "kernelspec": {
   "display_name": "Python 3",
   "language": "python",
   "name": "python3"
  },
  "language_info": {
   "codemirror_mode": {
    "name": "ipython",
    "version": 3
   },
   "file_extension": ".py",
   "mimetype": "text/x-python",
   "name": "python",
   "nbconvert_exporter": "python",
   "pygments_lexer": "ipython3",
   "version": "3.8.2"
  }
 },
 "nbformat": 4,
 "nbformat_minor": 4
}
