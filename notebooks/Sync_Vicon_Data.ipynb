{
 "cells": [
  {
   "cell_type": "code",
   "execution_count": 23,
   "metadata": {
    "Collapsed": "false"
   },
   "outputs": [],
   "source": [
    "import numpy as np\n",
    "import pandas as pd\n",
    "import matplotlib.pyplot as plt\n",
    "import cv2\n",
    "import math\n",
    "from mpl_toolkits.mplot3d import Axes3D\n",
    "import ipywidgets as wg\n",
    "from scipy.signal import find_peaks\n",
    "import sys\n",
    "sys.path.append(\"../src\")\n",
    "import importlib\n",
    "import support\n",
    "import visualizations\n",
    "import calibrations\n",
    "import kinematics\n",
    "from scipy import signal\n",
    "importlib.reload(support)\n",
    "from support import readFileDialog, parse_data_file, getFrame, writeToDATA, saveFileDialog\n",
    "importlib.reload(kinematics)\n",
    "from kinematics import getKeypointsCoord, getKeypointsPixels, inverseKinematicsRowing\n",
    "importlib.reload(visualizations)\n",
    "from visualizations import showFrame, keypointsDATAtoFrame\n",
    "importlib.reload(calibrations)\n",
    "from calibrations import getMmppInterface, defineReference\n",
    "%matplotlib widget"
   ]
  },
  {
   "cell_type": "code",
   "execution_count": 34,
   "metadata": {
    "Collapsed": "false"
   },
   "outputs": [],
   "source": [
    "file_path_op = readFileDialog(\"Open Data file (OP)\", \"data\")\n",
    "file_path_vicon = readFileDialog(\"Open Data file (Vicon)\", \"data\")"
   ]
  },
  {
   "cell_type": "code",
   "execution_count": 35,
   "metadata": {
    "Collapsed": "false"
   },
   "outputs": [],
   "source": [
    "data, var_names = parse_data_file(file_path_op)\n",
    "kp_openpose = data[\"keypoints\"]\n",
    "md_openpose = data[\"metadata\"]\n",
    "ang_openpose = data[\"angles\"]\n",
    "fps_openpose = md_openpose[\"fps\"]\n",
    "angles_names = md_openpose['angles_names']\n",
    "t_openpose = np.linspace(0, len(ang_openpose)*(1/fps_openpose), len(ang_openpose))"
   ]
  },
  {
   "cell_type": "code",
   "execution_count": 36,
   "metadata": {
    "Collapsed": "false"
   },
   "outputs": [],
   "source": [
    "data, var_names = parse_data_file(file_path_vicon)\n",
    "kp_vicon = data[\"keypoints\"]\n",
    "md_vicon = data[\"metadata\"]\n",
    "ang_vicon = data[\"angles\"]\n",
    "fps_vicon = md_vicon[\"fps\"]\n",
    "angles_names = md_vicon['angles_names']\n",
    "n_frames = md_vicon['n_frames']\n",
    "t_vicon = np.linspace(0, len(ang_vicon)*(1/fps_vicon), len(ang_vicon))"
   ]
  },
  {
   "cell_type": "code",
   "execution_count": 37,
   "metadata": {
    "Collapsed": "false"
   },
   "outputs": [],
   "source": [
    "sync_correction_sec = 2.3\n",
    "sync_correction_frames = int(round(sync_correction_sec * fps_vicon))\n",
    "kp_vicon_sync = kp_vicon[sync_correction_frames:]\n",
    "ang_vicon_sync = ang_vicon[sync_correction_frames:]\n",
    "n_frames_sync = n_frames - sync_correction_frames\n",
    "t_vicon_sync = np.linspace(0, n_frames_sync*(1/fps_vicon), n_frames_sync)"
   ]
  },
  {
   "cell_type": "code",
   "execution_count": 38,
   "metadata": {
    "Collapsed": "false"
   },
   "outputs": [
    {
     "data": {
      "application/vnd.jupyter.widget-view+json": {
       "model_id": "e4a21eab0f034e9494c6153155c94915",
       "version_major": 2,
       "version_minor": 0
      },
      "text/plain": [
       "VBox(children=(Dropdown(description='Angle:', index=2, options=('Knee <- Ankle -> Ground', 'Hip <- Knee -> Ank…"
      ]
     },
     "metadata": {},
     "output_type": "display_data"
    }
   ],
   "source": [
    "joint_angle = wg.Dropdown(options=angles_names,\n",
    "                        description='Angle:',\n",
    "                        value='Shoulder <- Hip -> Knee',\n",
    "                        disabled=False)\n",
    "\n",
    "def plot_2d_comparison(joint_angle):\n",
    "    angle_idx = angles_names.index(joint_angle)\n",
    "    plt.close('all')\n",
    "    plt.figure()\n",
    "    plt.plot(t_vicon_sync, ang_vicon_sync[:, angle_idx], label='Vicon')\n",
    "    plt.plot(t_openpose, ang_openpose[:, angle_idx],  label='Openpose')\n",
    "    angle_name = joint_angle.split('->')[0].split('<-')[-1].replace(\" \", \"\")\n",
    "    plt.title(\"2D Comparation for the {}\".format(angle_name))\n",
    "    plt.xlabel(\"Time (s)\")\n",
    "    plt.ylabel(\"Angle (Degrees)\")\n",
    "    plt.grid(True)\n",
    "    plt.legend()\n",
    "    plt.show()\n",
    "\n",
    "out = wg.interactive_output(plot_2d_comparison, {'joint_angle': joint_angle})\n",
    "\n",
    "vbox = wg.VBox([joint_angle, out])\n",
    "display(vbox)"
   ]
  },
  {
   "cell_type": "code",
   "execution_count": 39,
   "metadata": {
    "Collapsed": "false"
   },
   "outputs": [],
   "source": [
    "md_vicon_sync = md_vicon.copy()\n",
    "md_vicon_sync['n_frames'] = n_frames_sync"
   ]
  },
  {
   "cell_type": "code",
   "execution_count": 40,
   "metadata": {
    "Collapsed": "false"
   },
   "outputs": [],
   "source": [
    "output_path = saveFileDialog()"
   ]
  },
  {
   "cell_type": "code",
   "execution_count": 41,
   "metadata": {
    "Collapsed": "false"
   },
   "outputs": [
    {
     "data": {
      "text/plain": [
       "'C:/Users/victo/Documents/Motion_analysis/Vicon/Celio_Vicon/Voga24_5min_Celio_sync'"
      ]
     },
     "execution_count": 41,
     "metadata": {},
     "output_type": "execute_result"
    }
   ],
   "source": [
    "output_path"
   ]
  },
  {
   "cell_type": "code",
   "execution_count": 42,
   "metadata": {
    "Collapsed": "false"
   },
   "outputs": [],
   "source": [
    "writeToDATA(output_path, md_vicon_sync, write_mode='w')\n",
    "for i in range(len(kp_vicon_sync)):\n",
    "    file_data = {'keypoints': kp_vicon_sync[i].tolist(),\n",
    "                 'angles': ang_vicon_sync[i].tolist()}\n",
    "    writeToDATA(output_path, file_data, write_mode='a')"
   ]
  },
  {
   "cell_type": "code",
   "execution_count": null,
   "metadata": {
    "Collapsed": "false"
   },
   "outputs": [],
   "source": []
  }
 ],
 "metadata": {
  "kernelspec": {
   "display_name": "Python 3",
   "language": "python",
   "name": "python3"
  },
  "language_info": {
   "codemirror_mode": {
    "name": "ipython",
    "version": 3
   },
   "file_extension": ".py",
   "mimetype": "text/x-python",
   "name": "python",
   "nbconvert_exporter": "python",
   "pygments_lexer": "ipython3",
   "version": "3.8.2"
  }
 },
 "nbformat": 4,
 "nbformat_minor": 4
}
