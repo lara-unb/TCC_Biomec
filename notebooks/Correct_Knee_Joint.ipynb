{
 "cells": [
  {
   "cell_type": "code",
   "execution_count": 1,
   "metadata": {
    "Collapsed": "false"
   },
   "outputs": [],
   "source": [
    "import numpy as np\n",
    "import pandas as pd\n",
    "import matplotlib.pyplot as plt\n",
    "import cv2\n",
    "import math\n",
    "from mpl_toolkits.mplot3d import Axes3D\n",
    "import ipywidgets as wg\n",
    "from scipy.signal import find_peaks\n",
    "import sys\n",
    "sys.path.append(\"../src\")\n",
    "import importlib\n",
    "import support\n",
    "import visualizations\n",
    "import calibrations\n",
    "import kinematics\n",
    "from scipy import signal\n",
    "importlib.reload(support)\n",
    "from support import readFileDialog, parse_data_file, getFrame, writeToDATA, saveFileDialog\n",
    "importlib.reload(kinematics)\n",
    "from kinematics import getKeypointsCoord, getKeypointsPixels, inverseKinematicsRowing\n",
    "importlib.reload(visualizations)\n",
    "from visualizations import showFrame, keypointsDATAtoFrame\n",
    "importlib.reload(calibrations)\n",
    "from calibrations import getMmppInterface, defineReference\n",
    "%matplotlib widget"
   ]
  },
  {
   "cell_type": "markdown",
   "metadata": {
    "Collapsed": "false"
   },
   "source": [
    "# Functions "
   ]
  },
  {
   "cell_type": "code",
   "execution_count": 2,
   "metadata": {
    "Collapsed": "false"
   },
   "outputs": [],
   "source": [
    "def readFileVicon(file_path, prefix=\"Victor:\", keypoints_mapping_Vicon=None, first_line=\"Trajectories\"):\n",
    "    if keypoints_mapping_Vicon == None:\n",
    "        keypoints_mapping_Vicon = [\"LANK\", \"LKNE\", \"LTHI\", \"LASI\", \"LSHO\", \"LELB\", \"LWRB\", \"RANK\", \"RKNE\", \"RTHI\", \"RASI\", \"RSHO\", \"RELB\", \"RWRB\"]\n",
    "    metadata = pd.read_csv(file_path, nrows=1)\n",
    "    fps = pd.read_csv(file_path, nrows=1)[first_line][0]\n",
    "    keypoints_mapping_Vicon_tmp = pd.read_csv(file_path, skiprows=[0,1], nrows=1, header=None).values.tolist()[0]\n",
    "    vicon_data = np.array(pd.read_csv(file_path, skiprows=[0,1,2,4]))\n",
    "    keypoints_Vicon = np.zeros([len(vicon_data), len(keypoints_mapping_Vicon), 3])\n",
    "    for i in range(len(keypoints_mapping_Vicon)):\n",
    "        idx = keypoints_mapping_Vicon_tmp.index(prefix + keypoints_mapping_Vicon[i])\n",
    "        keypoints_Vicon[:, i, :] = vicon_data[:, idx:idx+3]\n",
    "    return keypoints_Vicon, keypoints_mapping_Vicon, fps"
   ]
  },
  {
   "cell_type": "code",
   "execution_count": 3,
   "metadata": {
    "Collapsed": "false"
   },
   "outputs": [],
   "source": [
    "def plot2DPose(keypoints_Vicon):\n",
    "    fig = plt.figure()\n",
    "    ax = fig.add_subplot(111)\n",
    "    ax.scatter(keypoints_Vicon[:, 0], keypoints_Vicon[:, 1], marker='o', color='r')\n",
    "    for i in range(keypoints_Vicon.shape[0]-1):\n",
    "        ax.plot([keypoints_Vicon[i, 0], keypoints_Vicon[i+1, 0]], [keypoints_Vicon[i, 1], keypoints_Vicon[i+1, 1]], color='black')\n",
    "    ax.set_xlabel('X Axis')\n",
    "    ax.set_ylabel('Y Axis')\n",
    "    # Fix aspect ratio\n",
    "    x, y = keypoints_Vicon[:, 0], keypoints_Vicon[:, 1]\n",
    "    max_range = np.array([x.max()-x.min(), y.max()-y.min()]).max() / 2.0\n",
    "    mean_x = x.mean()\n",
    "    mean_y = y.mean()\n",
    "    max_range += 400\n",
    "    ax.set_xlim(mean_x - max_range, mean_x + max_range)\n",
    "    ax.set_ylim(mean_y - max_range, mean_y + max_range)\n",
    "    plt.grid()\n",
    "    plt.show()"
   ]
  },
  {
   "cell_type": "code",
   "execution_count": 4,
   "metadata": {
    "Collapsed": "false"
   },
   "outputs": [],
   "source": [
    "def get_line_function_from_points(x1, y1, x2, y2):\n",
    "    corr = 0\n",
    "    if (x2 == x1):\n",
    "        corr = 1e-8\n",
    "    m = (y2-y1)/(abs(x2-x1+corr))\n",
    "    b = y1 - m*x1\n",
    "    return m, b"
   ]
  },
  {
   "cell_type": "code",
   "execution_count": 5,
   "metadata": {
    "Collapsed": "false"
   },
   "outputs": [],
   "source": [
    "def get_intersection_from_lines(m1, b1, m2, b2):\n",
    "    corr = 0\n",
    "    if (m2 == m1):\n",
    "        corr = 1e-8\n",
    "    x = (b2-b1)/(abs(m1-m2+corr))\n",
    "    y = (b1*m2 - b2*m1)/(m2 - m1)\n",
    "    return x, y"
   ]
  },
  {
   "cell_type": "code",
   "execution_count": 44,
   "metadata": {
    "Collapsed": "false"
   },
   "outputs": [],
   "source": [
    "def correct_knee_joint(kp, kp_mapping):\n",
    "    kp_RASI = kp[kp_mapping.index('RASI'), :]\n",
    "    x1_1, y1_1 = kp_RASI[0], kp_RASI[1]\n",
    "    kp_RTHI = kp[kp_mapping.index('RTHI'), :]\n",
    "    x2_1, y2_1 = kp_RTHI[0], kp_RTHI[1]\n",
    "    kp_RKNE = kp[kp_mapping.index('RKNE'), :]\n",
    "    x1_2, y1_2 = kp_RKNE[0], kp_RKNE[1]\n",
    "    kp_RANK = kp[kp_mapping.index('RANK'), :]\n",
    "    x2_2, y2_2 = kp_RANK[0], kp_RANK[1]\n",
    "    m1, b1 = get_line_function_from_points(x1_1, y1_1, x2_1, y2_1)\n",
    "    m2, b2 = get_line_function_from_points(x1_2, y1_2, x2_2, y2_2)\n",
    "    kp_out = np.zeros([kp.shape[0]-1, kp.shape[1]])\n",
    "    kp_out[:1, :] = kp[:1, :]\n",
    "    kp_out[2:, :] = kp[3:, :]\n",
    "\n",
    "    x_knee, y_knee = get_intersection_from_lines(m1, b1, m2, b2)\n",
    "    if (x_knee < x2_1) or (y_knee < y1_2):\n",
    "        x_knee = (x2_1 + x1_2)/2\n",
    "        y_knee = (y2_1 + y1_2)/2\n",
    "    kp_out[1, :] = [x_knee, y_knee]\n",
    "    \n",
    "    kp_mapping = ['Right Ankle',\n",
    "                  'Right Knee',\n",
    "                  'Right Hip',\n",
    "                  'Right Shoulder',\n",
    "                  'Right Elbow',\n",
    "                  'Right Wrist']\n",
    "    return kp_out, kp_mapping"
   ]
  },
  {
   "cell_type": "code",
   "execution_count": 7,
   "metadata": {
    "Collapsed": "false"
   },
   "outputs": [],
   "source": [
    "def get2DAnglesVector(keypoints_Vicon_2D, keypoints_mapping_Vicon=None):\n",
    "    if keypoints_mapping_Vicon == None:\n",
    "            keypoints_mapping_Vicon = [\"ANK\", \"KNE\", \"HIP\", \"SHO\", \"ELB\", \"WRI\"]\n",
    "    angles_vec = np.zeros([len(keypoints_Vicon), len(keypoints_mapping_Vicon)-1])\n",
    "    for i in range(len(keypoints_Vicon)):\n",
    "        angles = inverseKinematicsRowing(keypoints_Vicon_2D[i])\n",
    "        angles_vec[i, :] = angles\n",
    "    return angles_vec"
   ]
  },
  {
   "cell_type": "markdown",
   "metadata": {
    "Collapsed": "false"
   },
   "source": [
    "# Read Vicon file"
   ]
  },
  {
   "cell_type": "code",
   "execution_count": 8,
   "metadata": {
    "Collapsed": "false"
   },
   "outputs": [
    {
     "data": {
      "text/plain": [
       "'C:/Users/victo/Documents/Motion_analysis/Vicon/Celio_Vicon/Voga24_5min_Celio.csv'"
      ]
     },
     "execution_count": 8,
     "metadata": {},
     "output_type": "execute_result"
    }
   ],
   "source": [
    "file_path_vicon = readFileDialog(\"Open Vicon file\")\n",
    "file_path_vicon"
   ]
  },
  {
   "cell_type": "code",
   "execution_count": 9,
   "metadata": {
    "Collapsed": "false"
   },
   "outputs": [],
   "source": [
    "keypoints_Vicon, keypoints_mapping_Vicon, fps_vicon = readFileVicon(file_path_vicon, prefix=\"Celio:\")"
   ]
  },
  {
   "cell_type": "code",
   "execution_count": 45,
   "metadata": {
    "Collapsed": "false"
   },
   "outputs": [],
   "source": [
    "kp_right = keypoints_Vicon[:, int(keypoints_Vicon.shape[1]/2):]\n",
    "kp_right_mapping = keypoints_mapping_Vicon[int(len(keypoints_mapping_Vicon)/2):]\n",
    "kp_Vicon_2D = kp_right[:, :, 1:]\n",
    "kp_Vicon_2D_corrected = np.zeros([kp_Vicon_2D.shape[0], kp_Vicon_2D.shape[1]-1, kp_Vicon_2D.shape[2]])\n",
    "for i in range(len(kp_Vicon_2D_corrected)):\n",
    "    kp_Vicon_2D_corrected[i, :, :], kp_mapping = correct_knee_joint(kp_Vicon_2D[i, :, :], kp_right_mapping)"
   ]
  },
  {
   "cell_type": "code",
   "execution_count": 17,
   "metadata": {
    "Collapsed": "false"
   },
   "outputs": [
    {
     "data": {
      "text/plain": [
       "'C:/Users/victo/Documents/Motion_analysis/Vicon/Celio_Vicon/Voga24_5min_Celio.data'"
      ]
     },
     "execution_count": 17,
     "metadata": {},
     "output_type": "execute_result"
    }
   ],
   "source": [
    "file_path_op = readFileDialog(\"Open Openpose file\")\n",
    "file_path_op"
   ]
  },
  {
   "cell_type": "code",
   "execution_count": 46,
   "metadata": {
    "Collapsed": "false"
   },
   "outputs": [],
   "source": [
    "data, var_names = parse_data_file(file_path_op)\n",
    "kp_openpose = data[\"keypoints\"]\n",
    "md_openpose = data[\"metadata\"]\n",
    "ang_openpose = data[\"angles\"]\n",
    "fps_openpose = md_openpose[\"fps\"]\n",
    "angles_names = md_openpose['angles_names']"
   ]
  },
  {
   "cell_type": "code",
   "execution_count": 47,
   "metadata": {
    "Collapsed": "false"
   },
   "outputs": [],
   "source": [
    "md_vicon = md_openpose.copy()"
   ]
  },
  {
   "cell_type": "code",
   "execution_count": 48,
   "metadata": {
    "Collapsed": "false"
   },
   "outputs": [],
   "source": [
    "md_vicon[\"fps\"] = 100\n",
    "md_vicon[\"n_frames\"] = len(kp_Vicon_2D_corrected)\n",
    "t_vicon = np.linspace(0, md_vicon[\"n_frames\"]*(1/md_vicon['fps']), md_vicon[\"n_frames\"])"
   ]
  },
  {
   "cell_type": "code",
   "execution_count": 49,
   "metadata": {
    "Collapsed": "false"
   },
   "outputs": [],
   "source": [
    "angles_vec_2D_corrected = get2DAnglesVector(kp_Vicon_2D_corrected)\n",
    "angles_vec_2D = get2DAnglesVector(kp_Vicon_2D)"
   ]
  },
  {
   "cell_type": "code",
   "execution_count": 53,
   "metadata": {
    "Collapsed": "false"
   },
   "outputs": [],
   "source": [
    "output_path = saveFileDialog()"
   ]
  },
  {
   "cell_type": "code",
   "execution_count": 54,
   "metadata": {
    "Collapsed": "false"
   },
   "outputs": [
    {
     "data": {
      "text/plain": [
       "'C:/Users/victo/Documents/Motion_analysis/Vicon/Celio_Vicon/Voga24_5min_Celio.data'"
      ]
     },
     "execution_count": 54,
     "metadata": {},
     "output_type": "execute_result"
    }
   ],
   "source": [
    "output_path"
   ]
  },
  {
   "cell_type": "code",
   "execution_count": 55,
   "metadata": {
    "Collapsed": "false"
   },
   "outputs": [],
   "source": [
    "writeToDATA(output_path, md_vicon, write_mode='w')\n",
    "for i in range(len(kp_Vicon_2D_corrected)):\n",
    "    file_data = {'keypoints': kp_Vicon_2D_corrected[i].tolist(),\n",
    "                 'angles': angles_vec_2D_corrected[i].tolist()}\n",
    "    writeToDATA(output_path, file_data, write_mode='a')"
   ]
  },
  {
   "cell_type": "code",
   "execution_count": 51,
   "metadata": {
    "Collapsed": "false"
   },
   "outputs": [
    {
     "data": {
      "application/vnd.jupyter.widget-view+json": {
       "model_id": "9156ac684e9f40fc95853814ab4edbfb",
       "version_major": 2,
       "version_minor": 0
      },
      "text/plain": [
       "VBox(children=(Dropdown(description='Angle:', index=2, options=('Knee <- Ankle -> Ground', 'Hip <- Knee -> Ank…"
      ]
     },
     "metadata": {},
     "output_type": "display_data"
    }
   ],
   "source": [
    "joint_angle = wg.Dropdown(options=angles_names,\n",
    "                        description='Angle:',\n",
    "                        value='Shoulder <- Hip -> Knee',\n",
    "                        disabled=False)\n",
    "\n",
    "def plot_2d_comparison(joint_angle):\n",
    "    angle_idx = angles_names.index(joint_angle)\n",
    "    plt.close('all')\n",
    "    plt.figure()\n",
    "    plt.plot(t_vicon, angles_vec_2D[:, angle_idx], label='Captured')\n",
    "    plt.plot(t_vicon, angles_vec_2D_corrected[:, angle_idx],  label='Corrected')\n",
    "    angle_name = joint_angle.split('->')[0].split('<-')[-1].replace(\" \", \"\")\n",
    "    plt.title(\"2D Comparation for the {}\".format(angle_name))\n",
    "    plt.xlabel(\"Time (s)\")\n",
    "    plt.ylabel(\"Angle (Degrees)\")\n",
    "    plt.grid(True)\n",
    "    plt.legend()\n",
    "    plt.show()\n",
    "    \n",
    "out = wg.interactive_output(plot_2d_comparison, {'joint_angle': joint_angle})\n",
    "\n",
    "vbox = wg.VBox([joint_angle, out])\n",
    "display(vbox)"
   ]
  },
  {
   "cell_type": "code",
   "execution_count": 52,
   "metadata": {
    "Collapsed": "false"
   },
   "outputs": [
    {
     "data": {
      "application/vnd.jupyter.widget-view+json": {
       "model_id": "7c1cf1fa47e3428c8fc222da1c115435",
       "version_major": 2,
       "version_minor": 0
      },
      "text/plain": [
       "Canvas(toolbar=Toolbar(toolitems=[('Home', 'Reset original view', 'home', 'home'), ('Back', 'Back to previous …"
      ]
     },
     "metadata": {},
     "output_type": "display_data"
    },
    {
     "data": {
      "application/vnd.jupyter.widget-view+json": {
       "model_id": "08debb21ffb84bccb81eca3e1dfa233b",
       "version_major": 2,
       "version_minor": 0
      },
      "text/plain": [
       "Canvas(toolbar=Toolbar(toolitems=[('Home', 'Reset original view', 'home', 'home'), ('Back', 'Back to previous …"
      ]
     },
     "metadata": {},
     "output_type": "display_data"
    }
   ],
   "source": [
    "t_sec = 6.5\n",
    "n_frame = int(round(t_sec * md_vicon[\"fps\"]))\n",
    "kp = kp_Vicon_2D[n_frame,:,:]\n",
    "kp_corr = kp_Vicon_2D_corrected[n_frame,:,:]\n",
    "plt.close('all')\n",
    "plot2DPose(kp)\n",
    "plot2DPose(kp_corr)"
   ]
  },
  {
   "cell_type": "code",
   "execution_count": null,
   "metadata": {
    "Collapsed": "false"
   },
   "outputs": [],
   "source": []
  }
 ],
 "metadata": {
  "kernelspec": {
   "display_name": "Python 3",
   "language": "python",
   "name": "python3"
  },
  "language_info": {
   "codemirror_mode": {
    "name": "ipython",
    "version": 3
   },
   "file_extension": ".py",
   "mimetype": "text/x-python",
   "name": "python",
   "nbconvert_exporter": "python",
   "pygments_lexer": "ipython3",
   "version": "3.8.2"
  }
 },
 "nbformat": 4,
 "nbformat_minor": 4
}
