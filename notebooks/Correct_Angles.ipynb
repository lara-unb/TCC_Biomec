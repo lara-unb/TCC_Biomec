{
 "cells": [
  {
   "cell_type": "code",
   "execution_count": 261,
   "metadata": {
    "Collapsed": "false"
   },
   "outputs": [],
   "source": [
    "import numpy as np\n",
    "import pandas as pd\n",
    "import matplotlib.pyplot as plt\n",
    "import cv2\n",
    "import math\n",
    "from mpl_toolkits.mplot3d import Axes3D\n",
    "import ipywidgets as wg\n",
    "from scipy.signal import find_peaks\n",
    "import sys\n",
    "sys.path.append(\"../src\")\n",
    "import importlib\n",
    "import support\n",
    "import visualizations\n",
    "import calibrations\n",
    "import kinematics\n",
    "from scipy import signal\n",
    "importlib.reload(support)\n",
    "from support import readFileDialog, parse_data_file, getFrame, writeToDATA, saveFileDialog\n",
    "importlib.reload(kinematics)\n",
    "from kinematics import getKeypointsCoord, getKeypointsPixels, inverseKinematicsRowing, getRowingAngles\n",
    "importlib.reload(visualizations)\n",
    "from visualizations import showFrame, keypointsDATAtoFrame, keypointsToVideoCrop\n",
    "importlib.reload(calibrations)\n",
    "from calibrations import getMmppInterface, defineReference\n",
    "%matplotlib widget"
   ]
  },
  {
   "cell_type": "code",
   "execution_count": 262,
   "metadata": {
    "Collapsed": "false"
   },
   "outputs": [],
   "source": [
    "file_path_op = readFileDialog(\"Open Data file (OP)\", \"data\")"
   ]
  },
  {
   "cell_type": "code",
   "execution_count": 263,
   "metadata": {
    "Collapsed": "false"
   },
   "outputs": [
    {
     "data": {
      "text/plain": [
       "''"
      ]
     },
     "execution_count": 263,
     "metadata": {},
     "output_type": "execute_result"
    }
   ],
   "source": [
    "file_path_op"
   ]
  },
  {
   "cell_type": "code",
   "execution_count": 264,
   "metadata": {
    "Collapsed": "false"
   },
   "outputs": [
    {
     "ename": "FileNotFoundError",
     "evalue": "[Errno 2] No such file or directory: ''",
     "output_type": "error",
     "traceback": [
      "\u001b[1;31m---------------------------------------------------------------------------\u001b[0m",
      "\u001b[1;31mFileNotFoundError\u001b[0m                         Traceback (most recent call last)",
      "\u001b[1;32m<ipython-input-264-97c97e1588e4>\u001b[0m in \u001b[0;36m<module>\u001b[1;34m\u001b[0m\n\u001b[1;32m----> 1\u001b[1;33m \u001b[0mdata\u001b[0m\u001b[1;33m,\u001b[0m \u001b[0mvar_names\u001b[0m \u001b[1;33m=\u001b[0m \u001b[0mparse_data_file\u001b[0m\u001b[1;33m(\u001b[0m\u001b[0mfile_path_op\u001b[0m\u001b[1;33m)\u001b[0m\u001b[1;33m\u001b[0m\u001b[1;33m\u001b[0m\u001b[0m\n\u001b[0m\u001b[0;32m      2\u001b[0m \u001b[0mkp_openpose\u001b[0m \u001b[1;33m=\u001b[0m \u001b[0mdata\u001b[0m\u001b[1;33m[\u001b[0m\u001b[1;34m\"keypoints\"\u001b[0m\u001b[1;33m]\u001b[0m\u001b[1;33m\u001b[0m\u001b[1;33m\u001b[0m\u001b[0m\n\u001b[0;32m      3\u001b[0m \u001b[0mmd_openpose\u001b[0m \u001b[1;33m=\u001b[0m \u001b[0mdata\u001b[0m\u001b[1;33m[\u001b[0m\u001b[1;34m\"metadata\"\u001b[0m\u001b[1;33m]\u001b[0m\u001b[1;33m\u001b[0m\u001b[1;33m\u001b[0m\u001b[0m\n\u001b[0;32m      4\u001b[0m \u001b[0mang_openpose\u001b[0m \u001b[1;33m=\u001b[0m \u001b[0mdata\u001b[0m\u001b[1;33m[\u001b[0m\u001b[1;34m\"angles\"\u001b[0m\u001b[1;33m]\u001b[0m\u001b[1;33m\u001b[0m\u001b[1;33m\u001b[0m\u001b[0m\n\u001b[0;32m      5\u001b[0m \u001b[0mfps_openpose\u001b[0m \u001b[1;33m=\u001b[0m \u001b[0mmd_openpose\u001b[0m\u001b[1;33m[\u001b[0m\u001b[1;34m\"fps\"\u001b[0m\u001b[1;33m]\u001b[0m\u001b[1;33m\u001b[0m\u001b[1;33m\u001b[0m\u001b[0m\n",
      "\u001b[1;32m~\\Documents\\Motion_analysis\\ema_motion_analysis\\src\\support.py\u001b[0m in \u001b[0;36mparse_data_file\u001b[1;34m(file_path)\u001b[0m\n\u001b[0;32m    292\u001b[0m     \u001b[0mkeypoints_vec\u001b[0m \u001b[1;33m=\u001b[0m \u001b[1;33m[\u001b[0m\u001b[1;33m]\u001b[0m\u001b[1;33m\u001b[0m\u001b[1;33m\u001b[0m\u001b[0m\n\u001b[0;32m    293\u001b[0m     \u001b[0mangles_vec\u001b[0m \u001b[1;33m=\u001b[0m \u001b[1;33m[\u001b[0m\u001b[1;33m]\u001b[0m\u001b[1;33m\u001b[0m\u001b[1;33m\u001b[0m\u001b[0m\n\u001b[1;32m--> 294\u001b[1;33m     \u001b[1;32mwith\u001b[0m \u001b[0mopen\u001b[0m\u001b[1;33m(\u001b[0m\u001b[0mfile_path\u001b[0m\u001b[1;33m,\u001b[0m \u001b[1;34m'r'\u001b[0m\u001b[1;33m)\u001b[0m \u001b[1;32mas\u001b[0m \u001b[0mf\u001b[0m\u001b[1;33m:\u001b[0m\u001b[1;33m\u001b[0m\u001b[1;33m\u001b[0m\u001b[0m\n\u001b[0m\u001b[0;32m    295\u001b[0m         \u001b[1;32mfor\u001b[0m \u001b[0mi\u001b[0m\u001b[1;33m,\u001b[0m \u001b[0mline\u001b[0m \u001b[1;32min\u001b[0m \u001b[0menumerate\u001b[0m\u001b[1;33m(\u001b[0m\u001b[0mf\u001b[0m\u001b[1;33m)\u001b[0m\u001b[1;33m:\u001b[0m\u001b[1;33m\u001b[0m\u001b[1;33m\u001b[0m\u001b[0m\n\u001b[0;32m    296\u001b[0m             \u001b[1;32mif\u001b[0m \u001b[0mi\u001b[0m\u001b[1;33m==\u001b[0m\u001b[1;36m0\u001b[0m\u001b[1;33m:\u001b[0m\u001b[1;33m\u001b[0m\u001b[1;33m\u001b[0m\u001b[0m\n",
      "\u001b[1;31mFileNotFoundError\u001b[0m: [Errno 2] No such file or directory: ''"
     ]
    }
   ],
   "source": [
    "data, var_names = parse_data_file(file_path_op)\n",
    "kp_openpose = data[\"keypoints\"]\n",
    "md_openpose = data[\"metadata\"]\n",
    "ang_openpose = data[\"angles\"]\n",
    "fps_openpose = md_openpose[\"fps\"]\n",
    "angles_names = md_openpose['angles_names']\n",
    "t_openpose = np.linspace(0, len(ang_openpose)*(1/fps_openpose), len(ang_openpose))"
   ]
  },
  {
   "cell_type": "code",
   "execution_count": null,
   "metadata": {
    "Collapsed": "false"
   },
   "outputs": [],
   "source": [
    "ang_openpose_corr = getRowingAngles(kp_openpose)"
   ]
  },
  {
   "cell_type": "code",
   "execution_count": null,
   "metadata": {
    "Collapsed": "false"
   },
   "outputs": [],
   "source": [
    "ang_openpose_corr[:, 3] = -ang_openpose_corr[:, 3]"
   ]
  },
  {
   "cell_type": "code",
   "execution_count": null,
   "metadata": {
    "Collapsed": "false"
   },
   "outputs": [],
   "source": [
    "joint_angle = wg.Dropdown(options=angles_names,\n",
    "                        description='Angle:',\n",
    "                        value='Shoulder <- Hip -> Knee',\n",
    "                        disabled=False)\n",
    "\n",
    "def plot_2d_comparison(joint_angle):\n",
    "    angle_idx = angles_names.index(joint_angle)\n",
    "    plt.close('all')\n",
    "    plt.figure()\n",
    "    plt.plot(t_openpose, ang_openpose_corr[:, angle_idx], label='Corrected')\n",
    "    plt.plot(t_openpose, ang_openpose[:, angle_idx],  label='Opened')\n",
    "    angle_name = joint_angle.split('->')[0].split('<-')[-1].replace(\" \", \"\")\n",
    "    plt.title(\"2D Comparation for the {}\".format(angle_name))\n",
    "    plt.xlabel(\"Time (s)\")\n",
    "    plt.ylabel(\"Angle (Degrees)\")\n",
    "    plt.grid(True)\n",
    "    plt.legend()\n",
    "    plt.show()\n",
    "\n",
    "out = wg.interactive_output(plot_2d_comparison, {'joint_angle': joint_angle})\n",
    "\n",
    "vbox = wg.VBox([joint_angle, out])\n",
    "display(vbox)"
   ]
  },
  {
   "cell_type": "code",
   "execution_count": null,
   "metadata": {
    "Collapsed": "false"
   },
   "outputs": [],
   "source": [
    "output_path = saveFileDialog()\n",
    "output_path"
   ]
  },
  {
   "cell_type": "code",
   "execution_count": null,
   "metadata": {
    "Collapsed": "false"
   },
   "outputs": [],
   "source": [
    "writeToDATA(output_path, md_openpose, write_mode='w')\n",
    "for i in range(md_openpose[\"n_frames\"]):\n",
    "    file_data = {'keypoints': kp_openpose[i].tolist(),\n",
    "                 'angles': ang_openpose_corr[i].tolist()}\n",
    "    writeToDATA(output_path, file_data, write_mode='a')"
   ]
  },
  {
   "cell_type": "code",
   "execution_count": null,
   "metadata": {
    "Collapsed": "false"
   },
   "outputs": [],
   "source": [
    "md_openpose_crop = md_openpose.copy()"
   ]
  },
  {
   "cell_type": "code",
   "execution_count": null,
   "metadata": {
    "Collapsed": "false"
   },
   "outputs": [],
   "source": [
    "t_sec = 5\n",
    "md_openpose_crop[\"n_frames\"] = md_openpose[\"fps\"]*t_sec"
   ]
  },
  {
   "cell_type": "code",
   "execution_count": null,
   "metadata": {
    "Collapsed": "false"
   },
   "outputs": [],
   "source": [
    "starting_t_sec = 150\n",
    "starting_frame = np.argmin(np.abs(t_openpose - 150))"
   ]
  },
  {
   "cell_type": "code",
   "execution_count": null,
   "metadata": {
    "Collapsed": "false"
   },
   "outputs": [],
   "source": [
    "kp_openpose_crop = kp_openpose[starting_frame:starting_frame+md_openpose_crop[\"n_frames\"]]\n",
    "ang_openpose_crop = ang_openpose_corr[starting_frame:starting_frame+md_openpose_crop[\"n_frames\"]]"
   ]
  },
  {
   "cell_type": "code",
   "execution_count": null,
   "metadata": {
    "Collapsed": "false"
   },
   "outputs": [],
   "source": [
    "output_path_5_sec = output_path.split(\".\")[0] + f\"_{t_sec}seg.\" + output_path.split(\".\")[-1]\n",
    "output_path_5_sec"
   ]
  },
  {
   "cell_type": "code",
   "execution_count": null,
   "metadata": {
    "Collapsed": "false"
   },
   "outputs": [],
   "source": [
    "plt.figure()\n",
    "plt.plot(ang_openpose_crop[:, 2])\n",
    "plt.show()"
   ]
  },
  {
   "cell_type": "code",
   "execution_count": null,
   "metadata": {
    "Collapsed": "false"
   },
   "outputs": [],
   "source": [
    "plt.figure()\n",
    "plt.plot(ang_openpose_crop[:, 2])\n",
    "plt.show()"
   ]
  },
  {
   "cell_type": "code",
   "execution_count": null,
   "metadata": {
    "Collapsed": "false"
   },
   "outputs": [],
   "source": [
    "writeToDATA(output_path_5_sec, md_openpose_crop, write_mode='w')\n",
    "for i in range(md_openpose_crop[\"n_frames\"]):\n",
    "    file_data = {'keypoints': kp_openpose_crop[i].tolist(),\n",
    "                 'angles': ang_openpose_crop[i].tolist()}\n",
    "    writeToDATA(output_path_5_sec, file_data, write_mode='a')"
   ]
  },
  {
   "cell_type": "code",
   "execution_count": null,
   "metadata": {
    "Collapsed": "false"
   },
   "outputs": [],
   "source": [
    "video_path = file_path_op.split(\".\")[0] + \".mp4\"\n",
    "video_path"
   ]
  },
  {
   "cell_type": "code",
   "execution_count": null,
   "metadata": {
    "Collapsed": "false"
   },
   "outputs": [],
   "source": [
    "video_out_path = output_path_5_sec.split(\".\")[0] + \".mp4\"\n",
    "video_out_path"
   ]
  },
  {
   "cell_type": "code",
   "execution_count": null,
   "metadata": {
    "Collapsed": "false"
   },
   "outputs": [],
   "source": [
    "keypointsToVideoCrop(video_path, md_openpose_crop, kp_openpose_crop, video_out_path, starting_frame=int(md_openpose[\"n_frames\"]/2))"
   ]
  },
  {
   "cell_type": "code",
   "execution_count": null,
   "metadata": {
    "Collapsed": "false"
   },
   "outputs": [],
   "source": []
  }
 ],
 "metadata": {
  "kernelspec": {
   "display_name": "Python 3",
   "language": "python",
   "name": "python3"
  },
  "language_info": {
   "codemirror_mode": {
    "name": "ipython",
    "version": 3
   },
   "file_extension": ".py",
   "mimetype": "text/x-python",
   "name": "python",
   "nbconvert_exporter": "python",
   "pygments_lexer": "ipython3",
   "version": "3.8.2"
  }
 },
 "nbformat": 4,
 "nbformat_minor": 4
}
